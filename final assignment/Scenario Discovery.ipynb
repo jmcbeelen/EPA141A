{
 "cells": [
  {
   "metadata": {},
   "cell_type": "markdown",
   "source": "Start with exploratory sweep",
   "id": "22b9e9fab1cac649"
  },
  {
   "metadata": {
    "ExecuteTime": {
     "end_time": "2025-06-12T08:06:39.165981Z",
     "start_time": "2025-06-12T08:06:37.419435Z"
    }
   },
   "cell_type": "code",
   "source": [
    "#import\n",
    "from ema_workbench import Model, MultiprocessingEvaluator, Policy, Scenario\n",
    "\n",
    "from ema_workbench.em_framework.evaluators import perform_experiments\n",
    "from ema_workbench.em_framework.samplers import sample_uncertainties\n",
    "from ema_workbench.util import ema_logging\n",
    "import time\n",
    "from problem_formulation import get_model_for_problem_formulation\n",
    "from ema_workbench.analysis import pairs_plotting\n",
    "import numpy as np\n",
    "import pandas as pd\n",
    "import seaborn as sns\n",
    "import matplotlib.pyplot as plt\n",
    "from ema_workbench.analysis import prim\n",
    "\n",
    "from ema_workbench.analysis import feature_scoring"
   ],
   "id": "5b679f2498ff5d8f",
   "outputs": [],
   "execution_count": 1
  },
  {
   "metadata": {
    "ExecuteTime": {
     "end_time": "2025-06-12T08:06:39.174500Z",
     "start_time": "2025-06-12T08:06:39.172198Z"
    }
   },
   "cell_type": "code",
   "source": "",
   "id": "ee325c914b4a0fb",
   "outputs": [],
   "execution_count": null
  },
  {
   "metadata": {
    "ExecuteTime": {
     "end_time": "2025-06-12T08:07:02.427660Z",
     "start_time": "2025-06-12T08:06:39.199825Z"
    }
   },
   "cell_type": "code",
   "source": [
    "if __name__ == \"__main__\":\n",
    "    model, _ = get_model_for_problem_formulation(4)\n",
    "\n",
    "    with MultiprocessingEvaluator(model, n_processes=-1) as evaluator:\n",
    "        results = evaluator.perform_experiments(scenarios=100, policies=3)"
   ],
   "id": "825a17f2424c3db",
   "outputs": [
    {
     "name": "stderr",
     "output_type": "stream",
     "text": [
      "INFO | pool started with 7 workers\n",
      "INFO | performing 100 scenarios * 3 policies * 1 model(s) = 300 experiments\n",
      "100%|████████████████████████████████████████| 300/300 [00:13<00:00, 22.33it/s]\n",
      "INFO | experiments finished\n",
      "INFO | terminating pool\n"
     ]
    }
   ],
   "execution_count": 2
  },
  {
   "metadata": {
    "ExecuteTime": {
     "end_time": "2025-06-12T08:07:02.444015Z",
     "start_time": "2025-06-12T08:07:02.441444Z"
    }
   },
   "cell_type": "code",
   "source": [
    "def get_do_nothing_dict():\n",
    "    return {l.name: 0 for l in model.levers}\n",
    "\n",
    "policies = [Policy(\"baseline\", **get_do_nothing_dict())]\n"
   ],
   "id": "7a55780939abbfc0",
   "outputs": [],
   "execution_count": 3
  },
  {
   "metadata": {
    "ExecuteTime": {
     "end_time": "2025-06-12T08:07:16.808631Z",
     "start_time": "2025-06-12T08:07:02.454689Z"
    }
   },
   "cell_type": "code",
   "source": [
    " with MultiprocessingEvaluator(model, n_processes=-1) as evaluator:\n",
    "        results = evaluator.perform_experiments(scenarios=100, policies=policies)"
   ],
   "id": "c9f8a981c39ff4c4",
   "outputs": [
    {
     "name": "stderr",
     "output_type": "stream",
     "text": [
      "INFO | pool started with 7 workers\n",
      "INFO | performing 100 scenarios * 1 policies * 1 model(s) = 100 experiments\n",
      "100%|████████████████████████████████████████| 100/100 [00:04<00:00, 21.19it/s]\n",
      "INFO | experiments finished\n",
      "INFO | terminating pool\n"
     ]
    }
   ],
   "execution_count": 4
  },
  {
   "metadata": {
    "ExecuteTime": {
     "end_time": "2025-06-12T08:17:17.460934Z",
     "start_time": "2025-06-12T08:17:17.437502Z"
    }
   },
   "cell_type": "code",
   "source": [
    "experiments, outcomes = results\n",
    "print(outcomes.keys())\n",
    "experiments"
   ],
   "id": "baf7e820e2b7a25d",
   "outputs": [
    {
     "name": "stdout",
     "output_type": "stream",
     "text": [
      "dict_keys(['Hydrological Resilience Index', 'Expected Annual Damage', 'Dike Investment Costs', 'Expected Number of Deaths', 'RfR Total Costs', 'Expected Evacuation Costs'])\n"
     ]
    },
    {
     "data": {
      "text/plain": [
       "    A.0_ID flood wave shape    A.1_Bmax A.1_Brate  A.1_pfail    A.2_Bmax  \\\n",
       "0                        24   47.131350       1.5   0.614953  164.076969   \n",
       "1                        91   52.540085       1.0   0.187830   94.257014   \n",
       "2                        14  330.445222       1.0   0.590095  146.747804   \n",
       "3                       112  232.117342       1.5   0.458499   63.055955   \n",
       "4                        23  134.682247       1.0   0.157211  159.724041   \n",
       "..                      ...         ...       ...        ...         ...   \n",
       "95                      127  250.303018       1.5   0.775729  209.547556   \n",
       "96                       12  272.485615       1.5   0.821330  164.805033   \n",
       "97                       10  239.828775      10.0   0.932275  225.966179   \n",
       "98                       48  298.788975      10.0   0.711573  141.201381   \n",
       "99                       38  166.114108       1.5   0.098489  170.823762   \n",
       "\n",
       "   A.2_Brate  A.2_pfail    A.3_Bmax A.3_Brate  A.3_pfail  ...  \\\n",
       "0        1.5   0.947611  230.263563      10.0   0.830613  ...   \n",
       "1        1.0   0.095973  296.381174      10.0   0.395170  ...   \n",
       "2        1.0   0.704055  340.481383      10.0   0.562102  ...   \n",
       "3       10.0   0.564303  194.016660       1.5   0.779622  ...   \n",
       "4        1.5   0.194383   94.682603      10.0   0.624535  ...   \n",
       "..       ...        ...         ...       ...        ...  ...   \n",
       "95      10.0   0.442386  221.254415       1.0   0.363339  ...   \n",
       "96       1.0   0.540934   92.439233       1.5   0.329308  ...   \n",
       "97       1.0   0.728362  268.569679       1.0   0.083050  ...   \n",
       "98      10.0   0.802429  256.273035       1.5   0.975904  ...   \n",
       "99      10.0   0.234289  327.042178       1.5   0.379095  ...   \n",
       "\n",
       "    A.3_DikeIncrease 2 A.4_DikeIncrease 0  A.4_DikeIncrease 1  \\\n",
       "0                    0                  0                   0   \n",
       "1                    0                  0                   0   \n",
       "2                    0                  0                   0   \n",
       "3                    0                  0                   0   \n",
       "4                    0                  0                   0   \n",
       "..                 ...                ...                 ...   \n",
       "95                   0                  0                   0   \n",
       "96                   0                  0                   0   \n",
       "97                   0                  0                   0   \n",
       "98                   0                  0                   0   \n",
       "99                   0                  0                   0   \n",
       "\n",
       "    A.4_DikeIncrease 2 A.5_DikeIncrease 0  A.5_DikeIncrease 1  \\\n",
       "0                    0                  0                   0   \n",
       "1                    0                  0                   0   \n",
       "2                    0                  0                   0   \n",
       "3                    0                  0                   0   \n",
       "4                    0                  0                   0   \n",
       "..                 ...                ...                 ...   \n",
       "95                   0                  0                   0   \n",
       "96                   0                  0                   0   \n",
       "97                   0                  0                   0   \n",
       "98                   0                  0                   0   \n",
       "99                   0                  0                   0   \n",
       "\n",
       "   A.5_DikeIncrease 2 scenario    policy     model  \n",
       "0                   0      103  baseline  dikesnet  \n",
       "1                   0      104  baseline  dikesnet  \n",
       "2                   0      105  baseline  dikesnet  \n",
       "3                   0      106  baseline  dikesnet  \n",
       "4                   0      107  baseline  dikesnet  \n",
       "..                ...      ...       ...       ...  \n",
       "95                  0      198  baseline  dikesnet  \n",
       "96                  0      199  baseline  dikesnet  \n",
       "97                  0      200  baseline  dikesnet  \n",
       "98                  0      201  baseline  dikesnet  \n",
       "99                  0      202  baseline  dikesnet  \n",
       "\n",
       "[100 rows x 53 columns]"
      ],
      "text/html": [
       "<div>\n",
       "<style scoped>\n",
       "    .dataframe tbody tr th:only-of-type {\n",
       "        vertical-align: middle;\n",
       "    }\n",
       "\n",
       "    .dataframe tbody tr th {\n",
       "        vertical-align: top;\n",
       "    }\n",
       "\n",
       "    .dataframe thead th {\n",
       "        text-align: right;\n",
       "    }\n",
       "</style>\n",
       "<table border=\"1\" class=\"dataframe\">\n",
       "  <thead>\n",
       "    <tr style=\"text-align: right;\">\n",
       "      <th></th>\n",
       "      <th>A.0_ID flood wave shape</th>\n",
       "      <th>A.1_Bmax</th>\n",
       "      <th>A.1_Brate</th>\n",
       "      <th>A.1_pfail</th>\n",
       "      <th>A.2_Bmax</th>\n",
       "      <th>A.2_Brate</th>\n",
       "      <th>A.2_pfail</th>\n",
       "      <th>A.3_Bmax</th>\n",
       "      <th>A.3_Brate</th>\n",
       "      <th>A.3_pfail</th>\n",
       "      <th>...</th>\n",
       "      <th>A.3_DikeIncrease 2</th>\n",
       "      <th>A.4_DikeIncrease 0</th>\n",
       "      <th>A.4_DikeIncrease 1</th>\n",
       "      <th>A.4_DikeIncrease 2</th>\n",
       "      <th>A.5_DikeIncrease 0</th>\n",
       "      <th>A.5_DikeIncrease 1</th>\n",
       "      <th>A.5_DikeIncrease 2</th>\n",
       "      <th>scenario</th>\n",
       "      <th>policy</th>\n",
       "      <th>model</th>\n",
       "    </tr>\n",
       "  </thead>\n",
       "  <tbody>\n",
       "    <tr>\n",
       "      <th>0</th>\n",
       "      <td>24</td>\n",
       "      <td>47.131350</td>\n",
       "      <td>1.5</td>\n",
       "      <td>0.614953</td>\n",
       "      <td>164.076969</td>\n",
       "      <td>1.5</td>\n",
       "      <td>0.947611</td>\n",
       "      <td>230.263563</td>\n",
       "      <td>10.0</td>\n",
       "      <td>0.830613</td>\n",
       "      <td>...</td>\n",
       "      <td>0</td>\n",
       "      <td>0</td>\n",
       "      <td>0</td>\n",
       "      <td>0</td>\n",
       "      <td>0</td>\n",
       "      <td>0</td>\n",
       "      <td>0</td>\n",
       "      <td>103</td>\n",
       "      <td>baseline</td>\n",
       "      <td>dikesnet</td>\n",
       "    </tr>\n",
       "    <tr>\n",
       "      <th>1</th>\n",
       "      <td>91</td>\n",
       "      <td>52.540085</td>\n",
       "      <td>1.0</td>\n",
       "      <td>0.187830</td>\n",
       "      <td>94.257014</td>\n",
       "      <td>1.0</td>\n",
       "      <td>0.095973</td>\n",
       "      <td>296.381174</td>\n",
       "      <td>10.0</td>\n",
       "      <td>0.395170</td>\n",
       "      <td>...</td>\n",
       "      <td>0</td>\n",
       "      <td>0</td>\n",
       "      <td>0</td>\n",
       "      <td>0</td>\n",
       "      <td>0</td>\n",
       "      <td>0</td>\n",
       "      <td>0</td>\n",
       "      <td>104</td>\n",
       "      <td>baseline</td>\n",
       "      <td>dikesnet</td>\n",
       "    </tr>\n",
       "    <tr>\n",
       "      <th>2</th>\n",
       "      <td>14</td>\n",
       "      <td>330.445222</td>\n",
       "      <td>1.0</td>\n",
       "      <td>0.590095</td>\n",
       "      <td>146.747804</td>\n",
       "      <td>1.0</td>\n",
       "      <td>0.704055</td>\n",
       "      <td>340.481383</td>\n",
       "      <td>10.0</td>\n",
       "      <td>0.562102</td>\n",
       "      <td>...</td>\n",
       "      <td>0</td>\n",
       "      <td>0</td>\n",
       "      <td>0</td>\n",
       "      <td>0</td>\n",
       "      <td>0</td>\n",
       "      <td>0</td>\n",
       "      <td>0</td>\n",
       "      <td>105</td>\n",
       "      <td>baseline</td>\n",
       "      <td>dikesnet</td>\n",
       "    </tr>\n",
       "    <tr>\n",
       "      <th>3</th>\n",
       "      <td>112</td>\n",
       "      <td>232.117342</td>\n",
       "      <td>1.5</td>\n",
       "      <td>0.458499</td>\n",
       "      <td>63.055955</td>\n",
       "      <td>10.0</td>\n",
       "      <td>0.564303</td>\n",
       "      <td>194.016660</td>\n",
       "      <td>1.5</td>\n",
       "      <td>0.779622</td>\n",
       "      <td>...</td>\n",
       "      <td>0</td>\n",
       "      <td>0</td>\n",
       "      <td>0</td>\n",
       "      <td>0</td>\n",
       "      <td>0</td>\n",
       "      <td>0</td>\n",
       "      <td>0</td>\n",
       "      <td>106</td>\n",
       "      <td>baseline</td>\n",
       "      <td>dikesnet</td>\n",
       "    </tr>\n",
       "    <tr>\n",
       "      <th>4</th>\n",
       "      <td>23</td>\n",
       "      <td>134.682247</td>\n",
       "      <td>1.0</td>\n",
       "      <td>0.157211</td>\n",
       "      <td>159.724041</td>\n",
       "      <td>1.5</td>\n",
       "      <td>0.194383</td>\n",
       "      <td>94.682603</td>\n",
       "      <td>10.0</td>\n",
       "      <td>0.624535</td>\n",
       "      <td>...</td>\n",
       "      <td>0</td>\n",
       "      <td>0</td>\n",
       "      <td>0</td>\n",
       "      <td>0</td>\n",
       "      <td>0</td>\n",
       "      <td>0</td>\n",
       "      <td>0</td>\n",
       "      <td>107</td>\n",
       "      <td>baseline</td>\n",
       "      <td>dikesnet</td>\n",
       "    </tr>\n",
       "    <tr>\n",
       "      <th>...</th>\n",
       "      <td>...</td>\n",
       "      <td>...</td>\n",
       "      <td>...</td>\n",
       "      <td>...</td>\n",
       "      <td>...</td>\n",
       "      <td>...</td>\n",
       "      <td>...</td>\n",
       "      <td>...</td>\n",
       "      <td>...</td>\n",
       "      <td>...</td>\n",
       "      <td>...</td>\n",
       "      <td>...</td>\n",
       "      <td>...</td>\n",
       "      <td>...</td>\n",
       "      <td>...</td>\n",
       "      <td>...</td>\n",
       "      <td>...</td>\n",
       "      <td>...</td>\n",
       "      <td>...</td>\n",
       "      <td>...</td>\n",
       "      <td>...</td>\n",
       "    </tr>\n",
       "    <tr>\n",
       "      <th>95</th>\n",
       "      <td>127</td>\n",
       "      <td>250.303018</td>\n",
       "      <td>1.5</td>\n",
       "      <td>0.775729</td>\n",
       "      <td>209.547556</td>\n",
       "      <td>10.0</td>\n",
       "      <td>0.442386</td>\n",
       "      <td>221.254415</td>\n",
       "      <td>1.0</td>\n",
       "      <td>0.363339</td>\n",
       "      <td>...</td>\n",
       "      <td>0</td>\n",
       "      <td>0</td>\n",
       "      <td>0</td>\n",
       "      <td>0</td>\n",
       "      <td>0</td>\n",
       "      <td>0</td>\n",
       "      <td>0</td>\n",
       "      <td>198</td>\n",
       "      <td>baseline</td>\n",
       "      <td>dikesnet</td>\n",
       "    </tr>\n",
       "    <tr>\n",
       "      <th>96</th>\n",
       "      <td>12</td>\n",
       "      <td>272.485615</td>\n",
       "      <td>1.5</td>\n",
       "      <td>0.821330</td>\n",
       "      <td>164.805033</td>\n",
       "      <td>1.0</td>\n",
       "      <td>0.540934</td>\n",
       "      <td>92.439233</td>\n",
       "      <td>1.5</td>\n",
       "      <td>0.329308</td>\n",
       "      <td>...</td>\n",
       "      <td>0</td>\n",
       "      <td>0</td>\n",
       "      <td>0</td>\n",
       "      <td>0</td>\n",
       "      <td>0</td>\n",
       "      <td>0</td>\n",
       "      <td>0</td>\n",
       "      <td>199</td>\n",
       "      <td>baseline</td>\n",
       "      <td>dikesnet</td>\n",
       "    </tr>\n",
       "    <tr>\n",
       "      <th>97</th>\n",
       "      <td>10</td>\n",
       "      <td>239.828775</td>\n",
       "      <td>10.0</td>\n",
       "      <td>0.932275</td>\n",
       "      <td>225.966179</td>\n",
       "      <td>1.0</td>\n",
       "      <td>0.728362</td>\n",
       "      <td>268.569679</td>\n",
       "      <td>1.0</td>\n",
       "      <td>0.083050</td>\n",
       "      <td>...</td>\n",
       "      <td>0</td>\n",
       "      <td>0</td>\n",
       "      <td>0</td>\n",
       "      <td>0</td>\n",
       "      <td>0</td>\n",
       "      <td>0</td>\n",
       "      <td>0</td>\n",
       "      <td>200</td>\n",
       "      <td>baseline</td>\n",
       "      <td>dikesnet</td>\n",
       "    </tr>\n",
       "    <tr>\n",
       "      <th>98</th>\n",
       "      <td>48</td>\n",
       "      <td>298.788975</td>\n",
       "      <td>10.0</td>\n",
       "      <td>0.711573</td>\n",
       "      <td>141.201381</td>\n",
       "      <td>10.0</td>\n",
       "      <td>0.802429</td>\n",
       "      <td>256.273035</td>\n",
       "      <td>1.5</td>\n",
       "      <td>0.975904</td>\n",
       "      <td>...</td>\n",
       "      <td>0</td>\n",
       "      <td>0</td>\n",
       "      <td>0</td>\n",
       "      <td>0</td>\n",
       "      <td>0</td>\n",
       "      <td>0</td>\n",
       "      <td>0</td>\n",
       "      <td>201</td>\n",
       "      <td>baseline</td>\n",
       "      <td>dikesnet</td>\n",
       "    </tr>\n",
       "    <tr>\n",
       "      <th>99</th>\n",
       "      <td>38</td>\n",
       "      <td>166.114108</td>\n",
       "      <td>1.5</td>\n",
       "      <td>0.098489</td>\n",
       "      <td>170.823762</td>\n",
       "      <td>10.0</td>\n",
       "      <td>0.234289</td>\n",
       "      <td>327.042178</td>\n",
       "      <td>1.5</td>\n",
       "      <td>0.379095</td>\n",
       "      <td>...</td>\n",
       "      <td>0</td>\n",
       "      <td>0</td>\n",
       "      <td>0</td>\n",
       "      <td>0</td>\n",
       "      <td>0</td>\n",
       "      <td>0</td>\n",
       "      <td>0</td>\n",
       "      <td>202</td>\n",
       "      <td>baseline</td>\n",
       "      <td>dikesnet</td>\n",
       "    </tr>\n",
       "  </tbody>\n",
       "</table>\n",
       "<p>100 rows × 53 columns</p>\n",
       "</div>"
      ]
     },
     "execution_count": 7,
     "metadata": {},
     "output_type": "execute_result"
    }
   ],
   "execution_count": 7
  },
  {
   "metadata": {
    "ExecuteTime": {
     "end_time": "2025-06-12T08:17:19.501699Z",
     "start_time": "2025-06-12T08:17:19.455065Z"
    }
   },
   "cell_type": "code",
   "source": [
    "# 1. y  →  define the target behaviour\n",
    "y = outcomes[\"Expected Annual Damage\"][:,1] > 1e7       #  True = ‘bad’\n",
    "\n",
    "# 2. X  →  pick only uncertainty columns\n",
    "uncertainty_names = [u.name for u in model.uncertainties]\n",
    "X = pd.DataFrame(experiments)[uncertainty_names]\n",
    "\n",
    "# 3. PRIM\n",
    "from ema_workbench.analysis import prim\n",
    "prim_alg = prim.Prim(X, y, threshold=0.8)\n",
    "box = prim_alg.find_box()\n",
    "box.inspect()\n",
    "box.show_tradeoff()"
   ],
   "id": "efb45c04d412cb6",
   "outputs": [
    {
     "ename": "AssertionError",
     "evalue": "",
     "output_type": "error",
     "traceback": [
      "\u001B[0;31m---------------------------------------------------------------------------\u001B[0m",
      "\u001B[0;31mAssertionError\u001B[0m                            Traceback (most recent call last)",
      "Cell \u001B[0;32mIn[8], line 10\u001B[0m\n\u001B[1;32m      8\u001B[0m \u001B[38;5;66;03m# 3. PRIM\u001B[39;00m\n\u001B[1;32m      9\u001B[0m \u001B[38;5;28;01mfrom\u001B[39;00m \u001B[38;5;21;01mema_workbench\u001B[39;00m\u001B[38;5;21;01m.\u001B[39;00m\u001B[38;5;21;01manalysis\u001B[39;00m \u001B[38;5;28;01mimport\u001B[39;00m prim\n\u001B[0;32m---> 10\u001B[0m prim_alg \u001B[38;5;241m=\u001B[39m prim\u001B[38;5;241m.\u001B[39mPrim(X, y, threshold\u001B[38;5;241m=\u001B[39m\u001B[38;5;241m0.8\u001B[39m)\n\u001B[1;32m     11\u001B[0m box \u001B[38;5;241m=\u001B[39m prim_alg\u001B[38;5;241m.\u001B[39mfind_box()\n\u001B[1;32m     12\u001B[0m box\u001B[38;5;241m.\u001B[39minspect()\n",
      "File \u001B[0;32m~/Downloads/anaconda3/lib/python3.12/site-packages/ema_workbench/analysis/prim.py:1037\u001B[0m, in \u001B[0;36mPrim.__init__\u001B[0;34m(self, x, y, threshold, obj_function, peel_alpha, paste_alpha, mass_min, threshold_type, mode, update_function)\u001B[0m\n\u001B[1;32m   1023\u001B[0m \u001B[38;5;28;01mdef\u001B[39;00m \u001B[38;5;21m__init__\u001B[39m(\n\u001B[1;32m   1024\u001B[0m     \u001B[38;5;28mself\u001B[39m,\n\u001B[1;32m   1025\u001B[0m     x,\n\u001B[0;32m   (...)\u001B[0m\n\u001B[1;32m   1034\u001B[0m     update_function\u001B[38;5;241m=\u001B[39m\u001B[38;5;124m\"\u001B[39m\u001B[38;5;124mdefault\u001B[39m\u001B[38;5;124m\"\u001B[39m,\n\u001B[1;32m   1035\u001B[0m ):\n\u001B[1;32m   1036\u001B[0m     \u001B[38;5;28;01massert\u001B[39;00m mode \u001B[38;5;129;01min\u001B[39;00m {sdutil\u001B[38;5;241m.\u001B[39mRuleInductionType\u001B[38;5;241m.\u001B[39mBINARY, sdutil\u001B[38;5;241m.\u001B[39mRuleInductionType\u001B[38;5;241m.\u001B[39mREGRESSION}\n\u001B[0;32m-> 1037\u001B[0m     \u001B[38;5;28;01massert\u001B[39;00m \u001B[38;5;28mself\u001B[39m\u001B[38;5;241m.\u001B[39m_assert_mode(y, mode, update_function)\n\u001B[1;32m   1038\u001B[0m     \u001B[38;5;66;03m# preprocess x\u001B[39;00m\n\u001B[1;32m   1039\u001B[0m     x \u001B[38;5;241m=\u001B[39m x\u001B[38;5;241m.\u001B[39mcopy()\n",
      "\u001B[0;31mAssertionError\u001B[0m: "
     ]
    }
   ],
   "execution_count": 8
  },
  {
   "metadata": {
    "ExecuteTime": {
     "end_time": "2025-06-12T08:17:23.418534Z",
     "start_time": "2025-06-12T08:17:22.911149Z"
    }
   },
   "cell_type": "code",
   "source": [
    "#PRIM SCENARIO 1: hoge schade in tijdstap 0\n",
    "damage = outcomes[\"Expected Annual Damage\"][:,1]\n",
    "\n",
    "threshold = pd.Series(damage).quantile(0.8)\n",
    "y_high_damage = damage > threshold\n",
    "\n",
    "# Run PRIM\n",
    "prim_alg_high = prim.Prim(experiments, y_high_damage, threshold=0.75)\n",
    "box_high = prim_alg_high.find_box()\n",
    "\n",
    "#Plot\n",
    "box_high.show_tradeoff()\n",
    "plt.show()\n",
    "\n",
    "box_high.inspect()"
   ],
   "id": "6b9126964a310cda",
   "outputs": [
    {
     "name": "stderr",
     "output_type": "stream",
     "text": [
      "INFO | column policy dropped from analysis because it has only one category\n",
      "INFO | column model dropped from analysis because it has only one category\n",
      "INFO | 100 points remaining, containing 20 cases of interest\n",
      "INFO | mean: 1.0, mass: 0.11, coverage: 0.55, density: 1.0 restricted_dimensions: 7\n"
     ]
    },
    {
     "data": {
      "text/plain": [
       "<Figure size 640x480 with 2 Axes>"
      ],
      "image/png": "[encoded data removed]"
     },
     "metadata": {},
     "output_type": "display_data"
    },
    {
     "name": "stdout",
     "output_type": "stream",
     "text": [
      "coverage     0.55\n",
      "density      1.00\n",
      "id          12.00\n",
      "k           11.00\n",
      "mass         0.11\n",
      "mean         1.00\n",
      "n           11.00\n",
      "res_dim      7.00\n",
      "Name: 12, dtype: float64\n",
      "\n",
      "                              box 12                                 \n",
      "                                 min          max  qp value  qp value\n",
      "A.0_ID flood wave shape          0.0        123.0       NaN  1.000000\n",
      "discount rate 1                {1.5}        {1.5}  0.000050       NaN\n",
      "A.3_Brate                {10.0, 1.0}  {10.0, 1.0}  0.021680       NaN\n",
      "A.5_Bmax                   53.823088   348.753509  0.383995       NaN\n",
      "A.3_Bmax                   52.141148   320.341471  1.000000  0.159200\n",
      "A.3_pfail                   0.015929     0.907635  1.000000  0.383995\n",
      "A.2_pfail                   0.069469     0.934788  1.000000  1.000000\n",
      "\n"
     ]
    },
    {
     "name": "stderr",
     "output_type": "stream",
     "text": [
      "/Users/tessahuysinga/Downloads/anaconda3/lib/python3.12/site-packages/ema_workbench/analysis/prim.py:501: FutureWarning: Setting an item of incompatible dtype is deprecated and will raise in a future error of pandas. Value '{1.5}' has dtype incompatible with float64, please explicitly cast to a compatible dtype first.\n",
      "  box_lim.loc[unc] = values.values.tolist() + qp_values[unc]\n"
     ]
    },
    {
     "data": {
      "text/plain": [
       "[None]"
      ]
     },
     "execution_count": 9,
     "metadata": {},
     "output_type": "execute_result"
    }
   ],
   "execution_count": 9
  },
  {
   "metadata": {},
   "cell_type": "markdown",
   "source": "#### Eerst even distributie van outcomes checken om een duidelijke treshold te bepalen\n",
   "id": "cc6c83f44b4782a8"
  },
  {
   "metadata": {
    "ExecuteTime": {
     "end_time": "2025-06-12T08:57:08.971774Z",
     "start_time": "2025-06-12T08:57:08.720122Z"
    }
   },
   "cell_type": "code",
   "source": [
    "import numpy as np, pandas as pd, matplotlib.pyplot as plt\n",
    "damage = outcomes[\"RfR Total Costs\"]    # 1-D (PF0–2) or 2-D (PF4)\n",
    "data = damage if damage.ndim == 1 else damage[:, 1]   # pick t1\n",
    "pd.Series(data).hist(bins=30)\n",
    "plt.title(\"Histogram – Expected Annual Damage\"); plt.show()\n"
   ],
   "id": "8a47bab254086c93",
   "outputs": [
    {
     "data": {
      "text/plain": [
       "<Figure size 640x480 with 1 Axes>"
      ],
      "image/png": "[encoded data removed]"
     },
     "metadata": {},
     "output_type": "display_data"
    }
   ],
   "execution_count": 40
  },
  {
   "metadata": {
    "ExecuteTime": {
     "end_time": "2025-06-12T08:17:37.753879Z",
     "start_time": "2025-06-12T08:17:37.504375Z"
    }
   },
   "cell_type": "code",
   "source": [
    "#### Eerst even distributie van outcomes checken om een duidelijke treshold te bepalen\n",
    "\n",
    "import numpy as np, pandas as pd, matplotlib.pyplot as plt\n",
    "\n",
    "HRI = outcomes[\"Hydrological Resilience Index\"]  # 1-D (PF0–2) or 2-D (PF4)\n",
    "data = HRI if HRI.ndim == 1 else HRI[0]  # pick t1\n",
    "pd.Series(data).hist(bins=30)\n",
    "plt.title(\"Histogram – Hydrological Resilience Index\");\n",
    "plt.show()"
   ],
   "id": "bba0cd41e17bf89a",
   "outputs": [
    {
     "ename": "ValueError",
     "evalue": "Data must be 1-dimensional, got ndarray of shape (6, 3) instead",
     "output_type": "error",
     "traceback": [
      "\u001B[0;31m---------------------------------------------------------------------------\u001B[0m",
      "\u001B[0;31mValueError\u001B[0m                                Traceback (most recent call last)",
      "Cell \u001B[0;32mIn[11], line 7\u001B[0m\n\u001B[1;32m      5\u001B[0m HRI \u001B[38;5;241m=\u001B[39m outcomes[\u001B[38;5;124m\"\u001B[39m\u001B[38;5;124mHydrological Resilience Index\u001B[39m\u001B[38;5;124m\"\u001B[39m]  \u001B[38;5;66;03m# 1-D (PF0–2) or 2-D (PF4)\u001B[39;00m\n\u001B[1;32m      6\u001B[0m data \u001B[38;5;241m=\u001B[39m HRI \u001B[38;5;28;01mif\u001B[39;00m HRI\u001B[38;5;241m.\u001B[39mndim \u001B[38;5;241m==\u001B[39m \u001B[38;5;241m1\u001B[39m \u001B[38;5;28;01melse\u001B[39;00m HRI[\u001B[38;5;241m0\u001B[39m]  \u001B[38;5;66;03m# pick t1\u001B[39;00m\n\u001B[0;32m----> 7\u001B[0m pd\u001B[38;5;241m.\u001B[39mSeries(data)\u001B[38;5;241m.\u001B[39mhist(bins\u001B[38;5;241m=\u001B[39m\u001B[38;5;241m30\u001B[39m)\n\u001B[1;32m      8\u001B[0m plt\u001B[38;5;241m.\u001B[39mtitle(\u001B[38;5;124m\"\u001B[39m\u001B[38;5;124mHistogram – Hydrological Resilience Index\u001B[39m\u001B[38;5;124m\"\u001B[39m);\n\u001B[1;32m      9\u001B[0m plt\u001B[38;5;241m.\u001B[39mshow()\n",
      "File \u001B[0;32m~/Downloads/anaconda3/lib/python3.12/site-packages/pandas/core/series.py:512\u001B[0m, in \u001B[0;36mSeries.__init__\u001B[0;34m(self, data, index, dtype, name, copy, fastpath)\u001B[0m\n\u001B[1;32m    510\u001B[0m         data \u001B[38;5;241m=\u001B[39m data\u001B[38;5;241m.\u001B[39mcopy()\n\u001B[1;32m    511\u001B[0m \u001B[38;5;28;01melse\u001B[39;00m:\n\u001B[0;32m--> 512\u001B[0m     data \u001B[38;5;241m=\u001B[39m sanitize_array(data, index, dtype, copy)\n\u001B[1;32m    514\u001B[0m     manager \u001B[38;5;241m=\u001B[39m get_option(\u001B[38;5;124m\"\u001B[39m\u001B[38;5;124mmode.data_manager\u001B[39m\u001B[38;5;124m\"\u001B[39m)\n\u001B[1;32m    515\u001B[0m     \u001B[38;5;28;01mif\u001B[39;00m manager \u001B[38;5;241m==\u001B[39m \u001B[38;5;124m\"\u001B[39m\u001B[38;5;124mblock\u001B[39m\u001B[38;5;124m\"\u001B[39m:\n",
      "File \u001B[0;32m~/Downloads/anaconda3/lib/python3.12/site-packages/pandas/core/construction.py:646\u001B[0m, in \u001B[0;36msanitize_array\u001B[0;34m(data, index, dtype, copy, allow_2d)\u001B[0m\n\u001B[1;32m    643\u001B[0m             subarr \u001B[38;5;241m=\u001B[39m cast(np\u001B[38;5;241m.\u001B[39mndarray, subarr)\n\u001B[1;32m    644\u001B[0m             subarr \u001B[38;5;241m=\u001B[39m maybe_infer_to_datetimelike(subarr)\n\u001B[0;32m--> 646\u001B[0m subarr \u001B[38;5;241m=\u001B[39m _sanitize_ndim(subarr, data, dtype, index, allow_2d\u001B[38;5;241m=\u001B[39mallow_2d)\n\u001B[1;32m    648\u001B[0m \u001B[38;5;28;01mif\u001B[39;00m \u001B[38;5;28misinstance\u001B[39m(subarr, np\u001B[38;5;241m.\u001B[39mndarray):\n\u001B[1;32m    649\u001B[0m     \u001B[38;5;66;03m# at this point we should have dtype be None or subarr.dtype == dtype\u001B[39;00m\n\u001B[1;32m    650\u001B[0m     dtype \u001B[38;5;241m=\u001B[39m cast(np\u001B[38;5;241m.\u001B[39mdtype, dtype)\n",
      "File \u001B[0;32m~/Downloads/anaconda3/lib/python3.12/site-packages/pandas/core/construction.py:705\u001B[0m, in \u001B[0;36m_sanitize_ndim\u001B[0;34m(result, data, dtype, index, allow_2d)\u001B[0m\n\u001B[1;32m    703\u001B[0m     \u001B[38;5;28;01mif\u001B[39;00m allow_2d:\n\u001B[1;32m    704\u001B[0m         \u001B[38;5;28;01mreturn\u001B[39;00m result\n\u001B[0;32m--> 705\u001B[0m     \u001B[38;5;28;01mraise\u001B[39;00m \u001B[38;5;167;01mValueError\u001B[39;00m(\n\u001B[1;32m    706\u001B[0m         \u001B[38;5;124mf\u001B[39m\u001B[38;5;124m\"\u001B[39m\u001B[38;5;124mData must be 1-dimensional, got ndarray of shape \u001B[39m\u001B[38;5;132;01m{\u001B[39;00mdata\u001B[38;5;241m.\u001B[39mshape\u001B[38;5;132;01m}\u001B[39;00m\u001B[38;5;124m instead\u001B[39m\u001B[38;5;124m\"\u001B[39m\n\u001B[1;32m    707\u001B[0m     )\n\u001B[1;32m    708\u001B[0m \u001B[38;5;28;01mif\u001B[39;00m is_object_dtype(dtype) \u001B[38;5;129;01mand\u001B[39;00m \u001B[38;5;28misinstance\u001B[39m(dtype, ExtensionDtype):\n\u001B[1;32m    709\u001B[0m     \u001B[38;5;66;03m# i.e. NumpyEADtype(\"O\")\u001B[39;00m\n\u001B[1;32m    711\u001B[0m     result \u001B[38;5;241m=\u001B[39m com\u001B[38;5;241m.\u001B[39masarray_tuplesafe(data, dtype\u001B[38;5;241m=\u001B[39mnp\u001B[38;5;241m.\u001B[39mdtype(\u001B[38;5;124m\"\u001B[39m\u001B[38;5;124mobject\u001B[39m\u001B[38;5;124m\"\u001B[39m))\n",
      "\u001B[0;31mValueError\u001B[0m: Data must be 1-dimensional, got ndarray of shape (6, 3) instead"
     ]
    }
   ],
   "execution_count": 11
  },
  {
   "metadata": {
    "ExecuteTime": {
     "end_time": "2025-06-12T08:17:52.101630Z",
     "start_time": "2025-06-12T08:17:52.095337Z"
    }
   },
   "cell_type": "code",
   "source": "outcomes.keys()",
   "id": "d2972dea51cd2619",
   "outputs": [
    {
     "data": {
      "text/plain": [
       "dict_keys(['Hydrological Resilience Index', 'Expected Annual Damage', 'Dike Investment Costs', 'Expected Number of Deaths', 'RfR Total Costs', 'Expected Evacuation Costs'])"
      ]
     },
     "execution_count": 12,
     "metadata": {},
     "output_type": "execute_result"
    }
   ],
   "execution_count": 12
  },
  {
   "metadata": {
    "ExecuteTime": {
     "end_time": "2025-06-12T08:17:55.466850Z",
     "start_time": "2025-06-12T08:17:55.416894Z"
    }
   },
   "cell_type": "code",
   "source": [
    "HRI = outcomes[\"Hydrological Resilience Index\"]   # vector or matrix\n",
    "\n",
    "# if ndim==1  → just HRI\n",
    "# else (ndim==2) → use HRI[:, 0]\n",
    "data = HRI if HRI.ndim == 1 else HRI[:, 0]\n",
    "\n",
    "pd.Series(data).hist(bins=30)\n",
    "plt.title(\"Histogram – Hydrological Resilience Index\")\n",
    "plt.show()"
   ],
   "id": "892d8884674f8752",
   "outputs": [
    {
     "ename": "ValueError",
     "evalue": "Data must be 1-dimensional, got ndarray of shape (100, 3) instead",
     "output_type": "error",
     "traceback": [
      "\u001B[0;31m---------------------------------------------------------------------------\u001B[0m",
      "\u001B[0;31mValueError\u001B[0m                                Traceback (most recent call last)",
      "Cell \u001B[0;32mIn[13], line 7\u001B[0m\n\u001B[1;32m      3\u001B[0m \u001B[38;5;66;03m# if ndim==1  → just HRI\u001B[39;00m\n\u001B[1;32m      4\u001B[0m \u001B[38;5;66;03m# else (ndim==2) → use HRI[:, 0]\u001B[39;00m\n\u001B[1;32m      5\u001B[0m data \u001B[38;5;241m=\u001B[39m HRI \u001B[38;5;28;01mif\u001B[39;00m HRI\u001B[38;5;241m.\u001B[39mndim \u001B[38;5;241m==\u001B[39m \u001B[38;5;241m1\u001B[39m \u001B[38;5;28;01melse\u001B[39;00m HRI[:, \u001B[38;5;241m0\u001B[39m]\n\u001B[0;32m----> 7\u001B[0m pd\u001B[38;5;241m.\u001B[39mSeries(data)\u001B[38;5;241m.\u001B[39mhist(bins\u001B[38;5;241m=\u001B[39m\u001B[38;5;241m30\u001B[39m)\n\u001B[1;32m      8\u001B[0m plt\u001B[38;5;241m.\u001B[39mtitle(\u001B[38;5;124m\"\u001B[39m\u001B[38;5;124mHistogram – Hydrological Resilience Index\u001B[39m\u001B[38;5;124m\"\u001B[39m)\n\u001B[1;32m      9\u001B[0m plt\u001B[38;5;241m.\u001B[39mshow()\n",
      "File \u001B[0;32m~/Downloads/anaconda3/lib/python3.12/site-packages/pandas/core/series.py:512\u001B[0m, in \u001B[0;36mSeries.__init__\u001B[0;34m(self, data, index, dtype, name, copy, fastpath)\u001B[0m\n\u001B[1;32m    510\u001B[0m         data \u001B[38;5;241m=\u001B[39m data\u001B[38;5;241m.\u001B[39mcopy()\n\u001B[1;32m    511\u001B[0m \u001B[38;5;28;01melse\u001B[39;00m:\n\u001B[0;32m--> 512\u001B[0m     data \u001B[38;5;241m=\u001B[39m sanitize_array(data, index, dtype, copy)\n\u001B[1;32m    514\u001B[0m     manager \u001B[38;5;241m=\u001B[39m get_option(\u001B[38;5;124m\"\u001B[39m\u001B[38;5;124mmode.data_manager\u001B[39m\u001B[38;5;124m\"\u001B[39m)\n\u001B[1;32m    515\u001B[0m     \u001B[38;5;28;01mif\u001B[39;00m manager \u001B[38;5;241m==\u001B[39m \u001B[38;5;124m\"\u001B[39m\u001B[38;5;124mblock\u001B[39m\u001B[38;5;124m\"\u001B[39m:\n",
      "File \u001B[0;32m~/Downloads/anaconda3/lib/python3.12/site-packages/pandas/core/construction.py:646\u001B[0m, in \u001B[0;36msanitize_array\u001B[0;34m(data, index, dtype, copy, allow_2d)\u001B[0m\n\u001B[1;32m    643\u001B[0m             subarr \u001B[38;5;241m=\u001B[39m cast(np\u001B[38;5;241m.\u001B[39mndarray, subarr)\n\u001B[1;32m    644\u001B[0m             subarr \u001B[38;5;241m=\u001B[39m maybe_infer_to_datetimelike(subarr)\n\u001B[0;32m--> 646\u001B[0m subarr \u001B[38;5;241m=\u001B[39m _sanitize_ndim(subarr, data, dtype, index, allow_2d\u001B[38;5;241m=\u001B[39mallow_2d)\n\u001B[1;32m    648\u001B[0m \u001B[38;5;28;01mif\u001B[39;00m \u001B[38;5;28misinstance\u001B[39m(subarr, np\u001B[38;5;241m.\u001B[39mndarray):\n\u001B[1;32m    649\u001B[0m     \u001B[38;5;66;03m# at this point we should have dtype be None or subarr.dtype == dtype\u001B[39;00m\n\u001B[1;32m    650\u001B[0m     dtype \u001B[38;5;241m=\u001B[39m cast(np\u001B[38;5;241m.\u001B[39mdtype, dtype)\n",
      "File \u001B[0;32m~/Downloads/anaconda3/lib/python3.12/site-packages/pandas/core/construction.py:705\u001B[0m, in \u001B[0;36m_sanitize_ndim\u001B[0;34m(result, data, dtype, index, allow_2d)\u001B[0m\n\u001B[1;32m    703\u001B[0m     \u001B[38;5;28;01mif\u001B[39;00m allow_2d:\n\u001B[1;32m    704\u001B[0m         \u001B[38;5;28;01mreturn\u001B[39;00m result\n\u001B[0;32m--> 705\u001B[0m     \u001B[38;5;28;01mraise\u001B[39;00m \u001B[38;5;167;01mValueError\u001B[39;00m(\n\u001B[1;32m    706\u001B[0m         \u001B[38;5;124mf\u001B[39m\u001B[38;5;124m\"\u001B[39m\u001B[38;5;124mData must be 1-dimensional, got ndarray of shape \u001B[39m\u001B[38;5;132;01m{\u001B[39;00mdata\u001B[38;5;241m.\u001B[39mshape\u001B[38;5;132;01m}\u001B[39;00m\u001B[38;5;124m instead\u001B[39m\u001B[38;5;124m\"\u001B[39m\n\u001B[1;32m    707\u001B[0m     )\n\u001B[1;32m    708\u001B[0m \u001B[38;5;28;01mif\u001B[39;00m is_object_dtype(dtype) \u001B[38;5;129;01mand\u001B[39;00m \u001B[38;5;28misinstance\u001B[39m(dtype, ExtensionDtype):\n\u001B[1;32m    709\u001B[0m     \u001B[38;5;66;03m# i.e. NumpyEADtype(\"O\")\u001B[39;00m\n\u001B[1;32m    711\u001B[0m     result \u001B[38;5;241m=\u001B[39m com\u001B[38;5;241m.\u001B[39masarray_tuplesafe(data, dtype\u001B[38;5;241m=\u001B[39mnp\u001B[38;5;241m.\u001B[39mdtype(\u001B[38;5;124m\"\u001B[39m\u001B[38;5;124mobject\u001B[39m\u001B[38;5;124m\"\u001B[39m))\n",
      "\u001B[0;31mValueError\u001B[0m: Data must be 1-dimensional, got ndarray of shape (100, 3) instead"
     ]
    }
   ],
   "execution_count": 13
  },
  {
   "metadata": {
    "ExecuteTime": {
     "end_time": "2025-06-12T08:48:15.623673Z",
     "start_time": "2025-06-12T08:44:51.565389Z"
    }
   },
   "cell_type": "code",
   "source": [
    "model, _ = get_model_for_problem_formulation(4)\n",
    "exp, out = perform_experiments(\n",
    "    model,\n",
    "    scenarios=1000,\n",
    "    policies=[Policy(\"baseline\", **get_do_nothing_dict())]  # minimal run\n",
    ")\n"
   ],
   "id": "8f6efcb8bad7832",
   "outputs": [
    {
     "name": "stderr",
     "output_type": "stream",
     "text": [
      "INFO | performing 1000 scenarios * 1 policies * 1 model(s) = 1000 experiments\n",
      "  0%|                                                 | 0/1000 [00:00<?, ?it/s]INFO | performing experiments sequentially\n",
      "100%|██████████████████████████████████████| 1000/1000 [03:23<00:00,  4.90it/s]\n",
      "INFO | experiments finished\n"
     ]
    }
   ],
   "execution_count": 31
  },
  {
   "metadata": {
    "ExecuteTime": {
     "end_time": "2025-06-12T08:18:05.907377Z",
     "start_time": "2025-06-12T08:18:05.902376Z"
    }
   },
   "cell_type": "code",
   "source": [
    "print(\"HRI key in outcomes:\", [k for k in out.keys() if \"Hydrological\" in k])\n",
    "print(\"Shape =\", out[\"Hydrological Resilience Index\"].shape)"
   ],
   "id": "481a6eb8d1e79bfa",
   "outputs": [
    {
     "name": "stdout",
     "output_type": "stream",
     "text": [
      "HRI key in outcomes: ['Hydrological Resilience Index']\n",
      "Shape = (1, 6, 3)\n"
     ]
    }
   ],
   "execution_count": 15
  },
  {
   "metadata": {
    "ExecuteTime": {
     "end_time": "2025-06-12T08:18:15.986301Z",
     "start_time": "2025-06-12T08:18:15.982189Z"
    }
   },
   "cell_type": "code",
   "source": [
    "print(\"damage key in outcomes:\", [k for k in out.keys() if \"Damage\" in k])\n",
    "print(\"Shape =\", out[\"Expected Annual Damage\"].shape)"
   ],
   "id": "dee448d3cbed31a9",
   "outputs": [
    {
     "name": "stdout",
     "output_type": "stream",
     "text": [
      "damage key in outcomes: ['Expected Annual Damage']\n",
      "Shape = (1, 3)\n"
     ]
    }
   ],
   "execution_count": 17
  },
  {
   "metadata": {
    "ExecuteTime": {
     "end_time": "2025-06-12T08:18:17.255706Z",
     "start_time": "2025-06-12T08:18:17.251758Z"
    }
   },
   "cell_type": "code",
   "source": "print([k for k in out if \"Damage\" in k])\n",
   "id": "5f9517ec6f14d31e",
   "outputs": [
    {
     "name": "stdout",
     "output_type": "stream",
     "text": [
      "['Expected Annual Damage']\n"
     ]
    }
   ],
   "execution_count": 18
  },
  {
   "metadata": {
    "ExecuteTime": {
     "end_time": "2025-06-12T08:27:36.438793Z",
     "start_time": "2025-06-12T08:27:36.432631Z"
    }
   },
   "cell_type": "code",
   "source": "cols_unc           = [c for c in experiments.columns if \"_Bmax\" in c or \"_Brate\" in c]\n",
   "id": "5de977cc1a77fe33",
   "outputs": [],
   "execution_count": 19
  },
  {
   "metadata": {
    "ExecuteTime": {
     "end_time": "2025-06-12T08:48:22.201610Z",
     "start_time": "2025-06-12T08:48:22.196579Z"
    }
   },
   "cell_type": "code",
   "source": [
    "cols_unc = [u.name for u in model.uncertainties]     # ← alle 19 onzekerheden\n",
    "X = experiments[cols_unc]"
   ],
   "id": "c7ea117ea7bed13a",
   "outputs": [],
   "execution_count": 32
  },
  {
   "metadata": {
    "ExecuteTime": {
     "end_time": "2025-06-12T08:55:58.915470Z",
     "start_time": "2025-06-12T08:55:58.908141Z"
    }
   },
   "cell_type": "code",
   "source": [
    "# ---- 2.1 Hydrological Resilience Index ----\n",
    "hri_sys = out[\"Hydrological Resilience Index\"][:, -1, :].mean(axis=1)  # (N,) systeembreed\n",
    "target_hri = hri_sys < 0\n",
    "print(target_hri)\n",
    "\n",
    "# ---- 2.2 Expected Annual Damage ----\n",
    "ead_total = out[\"Expected Annual Damage\"].sum(axis=1)      # (N,)\n",
    "ead_q75   = np.percentile(ead_total, 75)\n",
    "target_ead = ead_total >= ead_q75\n",
    "print(target_ead)\n",
    "\n",
    "# ---- 2.3 RfR Total Costs ----\n",
    "rfr_costs = out[\"RfR Total Costs\"].sum(axis=1)               # (N,)\n",
    "rfr_q75   = np.percentile(rfr_costs, 75)\n",
    "target_rfr = rfr_costs >= rfr_q75\n",
    "print(target_rfr)\n",
    "\n",
    "# ---- 2.4 Combineer tot één worst-case target ----\n",
    "# y = target_hri | target_ead | target_rfr        # booleaanse vector (N,)\n",
    "# print(f\"worst-cases: {y.sum()} van 1000 runs  ({y.mean()*100:.1f} %)\")"
   ],
   "id": "1f05980615ef85c4",
   "outputs": [
    {
     "name": "stdout",
     "output_type": "stream",
     "text": [
      "[ True  True  True  True  True  True  True  True  True  True  True  True\n",
      "  True  True  True  True  True  True  True  True  True  True  True  True\n",
      "  True  True  True  True  True  True  True  True  True  True  True  True\n",
      "  True  True  True  True  True  True  True  True  True  True  True  True\n",
      "  True  True  True  True  True  True  True  True  True  True  True  True\n",
      "  True  True  True  True  True  True  True  True  True  True  True  True\n",
      "  True  True  True  True  True  True  True  True  True False  True  True\n",
      "  True  True  True  True  True  True  True  True  True  True  True  True\n",
      "  True  True  True  True  True  True  True  True  True  True  True  True\n",
      "  True  True  True  True  True  True  True  True  True  True  True  True\n",
      "  True  True  True  True  True  True  True  True  True  True  True  True\n",
      "  True  True  True  True  True  True  True  True  True  True  True  True\n",
      "  True  True  True  True  True  True  True  True  True  True  True  True\n",
      "  True  True  True  True  True  True  True  True  True  True  True  True\n",
      "  True  True  True  True  True  True  True  True  True  True  True  True\n",
      "  True  True  True  True  True  True  True  True  True  True  True  True\n",
      "  True  True  True  True  True  True  True  True  True  True  True  True\n",
      "  True  True  True  True  True  True  True  True  True  True  True  True\n",
      "  True  True  True  True  True  True  True  True  True  True  True  True\n",
      "  True  True  True  True  True  True  True  True  True  True  True  True\n",
      "  True  True  True  True  True  True  True  True  True  True  True  True\n",
      "  True  True  True  True  True  True  True  True  True  True  True  True\n",
      "  True  True  True  True  True  True  True  True  True  True  True  True\n",
      "  True  True  True  True  True  True  True  True  True  True  True  True\n",
      "  True  True  True  True  True  True  True  True  True  True  True  True\n",
      "  True  True  True  True  True  True  True  True  True  True  True  True\n",
      "  True  True  True  True  True  True  True  True  True  True  True  True\n",
      "  True  True  True  True  True  True  True  True  True  True  True  True\n",
      "  True  True  True  True  True  True  True  True  True  True  True  True\n",
      "  True  True  True  True  True  True  True  True  True  True  True  True\n",
      "  True  True  True  True  True  True  True  True  True  True  True  True\n",
      "  True  True  True  True  True  True  True  True  True  True  True  True\n",
      "  True  True  True  True  True  True  True  True  True  True  True  True\n",
      "  True  True  True  True  True  True  True  True  True  True  True  True\n",
      "  True  True  True  True  True  True  True  True  True  True  True  True\n",
      "  True  True  True  True  True  True  True  True  True  True  True  True\n",
      "  True  True  True  True  True  True  True  True  True  True  True  True\n",
      "  True  True  True  True  True  True  True  True  True  True  True  True\n",
      "  True  True  True  True  True  True  True False  True  True  True  True\n",
      "  True  True  True  True  True  True  True  True  True  True  True  True\n",
      "  True  True  True  True  True  True  True  True  True  True  True  True\n",
      "  True  True  True  True  True  True  True  True  True  True  True  True\n",
      "  True  True  True  True  True  True  True  True  True  True  True  True\n",
      "  True  True  True  True  True  True  True  True  True  True  True  True\n",
      "  True  True  True  True  True  True  True  True  True  True  True  True\n",
      "  True  True  True  True  True  True  True  True  True  True  True  True\n",
      "  True  True  True  True  True  True  True  True  True  True  True  True\n",
      "  True  True  True  True  True  True  True  True  True  True  True  True\n",
      "  True  True  True  True  True  True  True  True  True  True  True  True\n",
      "  True  True  True  True  True  True  True  True  True  True  True  True\n",
      "  True  True  True  True  True  True  True  True  True  True  True  True\n",
      "  True  True  True  True  True  True  True  True  True  True  True  True\n",
      "  True  True  True  True  True  True  True  True  True  True  True  True\n",
      "  True  True  True  True  True  True  True  True  True  True  True  True\n",
      "  True  True  True  True  True  True  True  True  True  True  True  True\n",
      "  True  True  True  True  True  True  True  True  True  True  True  True\n",
      "  True  True  True  True  True  True  True  True  True  True  True  True\n",
      "  True  True  True  True  True  True  True  True  True  True  True  True\n",
      "  True  True  True  True  True  True  True  True  True  True  True  True\n",
      "  True  True  True  True  True  True  True  True  True  True  True  True\n",
      "  True  True  True  True  True  True  True  True  True  True  True  True\n",
      "  True  True  True  True  True  True  True  True  True  True  True  True\n",
      "  True  True  True  True  True  True  True  True  True  True  True  True\n",
      "  True  True  True  True  True  True  True  True  True  True  True  True\n",
      "  True  True  True  True  True  True  True  True  True  True  True  True\n",
      "  True  True  True  True  True  True  True  True  True  True  True  True\n",
      "  True  True  True  True  True  True  True  True  True  True  True  True\n",
      "  True  True  True  True  True  True  True  True  True  True  True  True\n",
      "  True  True  True  True  True  True  True  True  True  True  True  True\n",
      "  True  True  True  True  True  True  True  True  True  True  True  True\n",
      "  True  True  True  True  True  True  True  True  True  True  True  True\n",
      "  True  True  True  True  True  True  True  True  True  True  True  True\n",
      "  True  True  True  True  True  True  True  True  True  True  True  True\n",
      "  True  True  True  True  True  True  True  True  True  True  True  True\n",
      "  True  True  True  True  True  True  True  True  True  True  True  True\n",
      "  True  True  True  True  True  True  True  True  True  True  True  True\n",
      "  True  True  True  True  True False  True  True  True  True  True  True\n",
      "  True  True  True  True  True  True  True  True  True  True  True  True\n",
      "  True  True  True  True  True  True  True  True  True  True  True  True\n",
      "  True  True  True  True  True  True  True  True  True  True  True  True\n",
      "  True  True  True  True  True  True  True  True  True  True  True  True\n",
      "  True  True  True  True  True  True  True  True  True  True  True  True\n",
      "  True  True  True  True  True  True  True  True  True  True  True  True\n",
      "  True  True  True  True]\n",
      "[False False False False False False False False  True False False False\n",
      "  True False False False  True False False False False False False False\n",
      " False False False False False False False False  True  True  True False\n",
      " False False False  True False False False  True False False False False\n",
      " False  True False False False  True False False False False False False\n",
      "  True False  True False False  True  True False False False False  True\n",
      " False  True  True False  True  True False False False False False False\n",
      "  True False  True  True False False False  True False False  True False\n",
      "  True False False  True False False False False False False False False\n",
      " False  True  True False False False False  True False False False False\n",
      "  True False False False False False  True False False  True False False\n",
      " False False False  True  True False False False False False False False\n",
      "  True  True False False False False False False False False False False\n",
      "  True False False False False False  True  True False False False False\n",
      " False False  True False False False False False  True False False False\n",
      " False  True  True False False False False False  True False False False\n",
      " False False False False  True False False False False False False False\n",
      " False  True False False False False  True False False False False  True\n",
      " False  True  True  True False False  True False False False False False\n",
      " False False False False False False  True False False False  True  True\n",
      " False False  True  True False False False False  True False False False\n",
      "  True  True False False False False False False False False False False\n",
      " False  True  True False False False False False False False  True False\n",
      "  True  True False False False False False False False False False  True\n",
      " False False False False  True  True  True False  True False False False\n",
      "  True  True False False  True  True False  True  True  True False False\n",
      " False False False False  True False  True  True  True False False  True\n",
      "  True False False False False  True False False  True  True False False\n",
      " False  True False  True False  True False False  True False False False\n",
      " False False False False False False False False False False False False\n",
      " False False False  True False False  True  True False False False False\n",
      " False False  True False False False False  True False  True False  True\n",
      " False False  True False False  True False False False  True False False\n",
      " False  True False  True False  True False  True False False False False\n",
      " False False False False False False False  True  True  True False False\n",
      "  True False  True False False False  True False False False False False\n",
      "  True  True False  True  True False False False False False False False\n",
      " False False  True False  True False  True False False  True False False\n",
      "  True False  True False  True False  True False  True False False False\n",
      " False  True False False False False  True False False False False False\n",
      "  True False False False False False  True False  True  True  True False\n",
      " False False False  True False  True False False False False False False\n",
      "  True  True False False False False False False False False False False\n",
      "  True  True False False False False False False  True False False False\n",
      " False False False False False False False False False False  True False\n",
      " False False False  True False False False False False False False False\n",
      " False False False False False False False False False False  True  True\n",
      " False False False  True  True False False False False  True False False\n",
      " False False  True False False False False False False False False False\n",
      " False False  True False False  True False  True  True False False False\n",
      "  True  True False False False False False False  True False False False\n",
      "  True False False False False False False False False  True False False\n",
      " False False False  True False False False False False False  True  True\n",
      " False  True False False  True False False False False  True  True  True\n",
      " False False False  True False False False False False False False False\n",
      " False False  True False False  True  True False False  True  True False\n",
      " False False False  True False False False False  True False False  True\n",
      " False False  True False False False False False False  True  True  True\n",
      " False  True False  True False False False False False  True False  True\n",
      " False  True False False False False False False False False  True False\n",
      " False False False False False False False  True False False  True False\n",
      " False False False False False False False False False False False False\n",
      " False  True  True  True  True False False False False False False False\n",
      " False False  True False False  True False False  True False  True False\n",
      "  True False  True  True False False  True False  True False False False\n",
      " False  True False False False  True False  True False False False False\n",
      "  True False  True False  True False False  True False False False False\n",
      " False False False  True False False False  True False False  True False\n",
      " False False  True False False False False False False False False False\n",
      " False  True False False  True False False  True  True False  True False\n",
      " False False  True False False False False False False  True  True False\n",
      " False False False False  True False False False False False False False\n",
      "  True False  True False  True  True False False False False  True False\n",
      " False False False False False  True False  True False False  True False\n",
      " False False False False  True False False False False False  True False\n",
      " False False False False  True False  True False False False False False\n",
      "  True False False  True False False False False False False  True False\n",
      " False False False False False False  True  True False False False False\n",
      " False  True False False  True False False False False False  True False\n",
      " False False  True False False False False  True  True  True  True False\n",
      " False False False False  True  True False False False False False False\n",
      " False False  True False False False False False  True  True False False\n",
      " False  True False False False  True  True False False False False  True\n",
      " False False False False]\n",
      "[ True  True  True  True  True  True  True  True  True  True  True  True\n",
      "  True  True  True  True  True  True  True  True  True  True  True  True\n",
      "  True  True  True  True  True  True  True  True  True  True  True  True\n",
      "  True  True  True  True  True  True  True  True  True  True  True  True\n",
      "  True  True  True  True  True  True  True  True  True  True  True  True\n",
      "  True  True  True  True  True  True  True  True  True  True  True  True\n",
      "  True  True  True  True  True  True  True  True  True  True  True  True\n",
      "  True  True  True  True  True  True  True  True  True  True  True  True\n",
      "  True  True  True  True  True  True  True  True  True  True  True  True\n",
      "  True  True  True  True  True  True  True  True  True  True  True  True\n",
      "  True  True  True  True  True  True  True  True  True  True  True  True\n",
      "  True  True  True  True  True  True  True  True  True  True  True  True\n",
      "  True  True  True  True  True  True  True  True  True  True  True  True\n",
      "  True  True  True  True  True  True  True  True  True  True  True  True\n",
      "  True  True  True  True  True  True  True  True  True  True  True  True\n",
      "  True  True  True  True  True  True  True  True  True  True  True  True\n",
      "  True  True  True  True  True  True  True  True  True  True  True  True\n",
      "  True  True  True  True  True  True  True  True  True  True  True  True\n",
      "  True  True  True  True  True  True  True  True  True  True  True  True\n",
      "  True  True  True  True  True  True  True  True  True  True  True  True\n",
      "  True  True  True  True  True  True  True  True  True  True  True  True\n",
      "  True  True  True  True  True  True  True  True  True  True  True  True\n",
      "  True  True  True  True  True  True  True  True  True  True  True  True\n",
      "  True  True  True  True  True  True  True  True  True  True  True  True\n",
      "  True  True  True  True  True  True  True  True  True  True  True  True\n",
      "  True  True  True  True  True  True  True  True  True  True  True  True\n",
      "  True  True  True  True  True  True  True  True  True  True  True  True\n",
      "  True  True  True  True  True  True  True  True  True  True  True  True\n",
      "  True  True  True  True  True  True  True  True  True  True  True  True\n",
      "  True  True  True  True  True  True  True  True  True  True  True  True\n",
      "  True  True  True  True  True  True  True  True  True  True  True  True\n",
      "  True  True  True  True  True  True  True  True  True  True  True  True\n",
      "  True  True  True  True  True  True  True  True  True  True  True  True\n",
      "  True  True  True  True  True  True  True  True  True  True  True  True\n",
      "  True  True  True  True  True  True  True  True  True  True  True  True\n",
      "  True  True  True  True  True  True  True  True  True  True  True  True\n",
      "  True  True  True  True  True  True  True  True  True  True  True  True\n",
      "  True  True  True  True  True  True  True  True  True  True  True  True\n",
      "  True  True  True  True  True  True  True  True  True  True  True  True\n",
      "  True  True  True  True  True  True  True  True  True  True  True  True\n",
      "  True  True  True  True  True  True  True  True  True  True  True  True\n",
      "  True  True  True  True  True  True  True  True  True  True  True  True\n",
      "  True  True  True  True  True  True  True  True  True  True  True  True\n",
      "  True  True  True  True  True  True  True  True  True  True  True  True\n",
      "  True  True  True  True  True  True  True  True  True  True  True  True\n",
      "  True  True  True  True  True  True  True  True  True  True  True  True\n",
      "  True  True  True  True  True  True  True  True  True  True  True  True\n",
      "  True  True  True  True  True  True  True  True  True  True  True  True\n",
      "  True  True  True  True  True  True  True  True  True  True  True  True\n",
      "  True  True  True  True  True  True  True  True  True  True  True  True\n",
      "  True  True  True  True  True  True  True  True  True  True  True  True\n",
      "  True  True  True  True  True  True  True  True  True  True  True  True\n",
      "  True  True  True  True  True  True  True  True  True  True  True  True\n",
      "  True  True  True  True  True  True  True  True  True  True  True  True\n",
      "  True  True  True  True  True  True  True  True  True  True  True  True\n",
      "  True  True  True  True  True  True  True  True  True  True  True  True\n",
      "  True  True  True  True  True  True  True  True  True  True  True  True\n",
      "  True  True  True  True  True  True  True  True  True  True  True  True\n",
      "  True  True  True  True  True  True  True  True  True  True  True  True\n",
      "  True  True  True  True  True  True  True  True  True  True  True  True\n",
      "  True  True  True  True  True  True  True  True  True  True  True  True\n",
      "  True  True  True  True  True  True  True  True  True  True  True  True\n",
      "  True  True  True  True  True  True  True  True  True  True  True  True\n",
      "  True  True  True  True  True  True  True  True  True  True  True  True\n",
      "  True  True  True  True  True  True  True  True  True  True  True  True\n",
      "  True  True  True  True  True  True  True  True  True  True  True  True\n",
      "  True  True  True  True  True  True  True  True  True  True  True  True\n",
      "  True  True  True  True  True  True  True  True  True  True  True  True\n",
      "  True  True  True  True  True  True  True  True  True  True  True  True\n",
      "  True  True  True  True  True  True  True  True  True  True  True  True\n",
      "  True  True  True  True  True  True  True  True  True  True  True  True\n",
      "  True  True  True  True  True  True  True  True  True  True  True  True\n",
      "  True  True  True  True  True  True  True  True  True  True  True  True\n",
      "  True  True  True  True  True  True  True  True  True  True  True  True\n",
      "  True  True  True  True  True  True  True  True  True  True  True  True\n",
      "  True  True  True  True  True  True  True  True  True  True  True  True\n",
      "  True  True  True  True  True  True  True  True  True  True  True  True\n",
      "  True  True  True  True  True  True  True  True  True  True  True  True\n",
      "  True  True  True  True  True  True  True  True  True  True  True  True\n",
      "  True  True  True  True  True  True  True  True  True  True  True  True\n",
      "  True  True  True  True  True  True  True  True  True  True  True  True\n",
      "  True  True  True  True  True  True  True  True  True  True  True  True\n",
      "  True  True  True  True  True  True  True  True  True  True  True  True\n",
      "  True  True  True  True]\n"
     ]
    }
   ],
   "execution_count": 39
  },
  {
   "metadata": {},
   "cell_type": "code",
   "outputs": [],
   "execution_count": null,
   "source": "",
   "id": "5f80354a4b247af4"
  }
 ],
 "metadata": {
  "kernelspec": {
   "display_name": "Python 3",
   "language": "python",
   "name": "python3"
  },
  "language_info": {
   "codemirror_mode": {
    "name": "ipython",
    "version": 2
   },
   "file_extension": ".py",
   "mimetype": "text/x-python",
   "name": "python",
   "nbconvert_exporter": "python",
   "pygments_lexer": "ipython2",
   "version": "2.7.6"
  }
 },
 "nbformat": 4,
 "nbformat_minor": 5
}
