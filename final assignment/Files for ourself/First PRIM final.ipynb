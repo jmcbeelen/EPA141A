{
 "cells": [
  {
   "cell_type": "code",
   "id": "initial_id",
   "metadata": {
    "collapsed": true,
    "ExecuteTime": {
     "end_time": "2025-06-18T14:35:56.993414Z",
     "start_time": "2025-06-18T14:35:56.980913Z"
    }
   },
   "source": [
    "import os\n",
    "import shutil\n",
    "import time\n",
    "from collections import defaultdict\n",
    "\n",
    "\n",
    "import matplotlib.pyplot as plt\n",
    "import numpy as np\n",
    "import pandas as pd\n",
    "import seaborn as sns\n",
    "from SALib.analyze import sobol\n",
    "\n",
    "\n",
    "from ema_workbench import (\n",
    "    Model, Policy, Scenario, MultiprocessingEvaluator,\n",
    "    ema_logging\n",
    ")\n",
    "from ema_workbench.analysis import (\n",
    "    feature_scoring, parcoords, pairs_plotting, prim\n",
    ")\n",
    "from ema_workbench.em_framework.evaluators import (\n",
    "    BaseEvaluator, perform_experiments\n",
    ")\n",
    "from ema_workbench.em_framework.optimization import (\n",
    "    ArchiveLogger, EpsilonProgress, EpsNSGAII,\n",
    "    HyperVolume, epsilon_nondominated, to_problem\n",
    ")\n",
    "from ema_workbench.em_framework.outcomes import ScalarOutcome\n",
    "from ema_workbench.em_framework.salib_samplers import get_SALib_problem\n",
    "from ema_workbench.em_framework.samplers import sample_uncertainties\n",
    "from pandas.api.types import is_numeric_dtype\n",
    "\n",
    "\n",
    "\n",
    "from problem_formulation import get_model_for_problem_formulation\n",
    "from ema_workbench.analysis import dimensional_stacking\n",
    "from pandas.api.types import is_numeric_dtype, is_categorical_dtype"
   ],
   "outputs": [],
   "execution_count": 2
  },
  {
   "metadata": {
    "ExecuteTime": {
     "end_time": "2025-06-18T14:35:57.034944Z",
     "start_time": "2025-06-18T14:35:57.007297Z"
    }
   },
   "cell_type": "code",
   "source": [
    "policies_df = pd.read_csv(\"../candidate_policies.csv\")\n",
    "\n",
    "# zet elke rij om in een Policy-object\n",
    "candidate_policies = [\n",
    "    Policy(f\"cand_{i}\", **row.to_dict())\n",
    "    for i, row in policies_df.iterrows()\n",
    "\n",
    "    ]"
   ],
   "id": "b96580181340a2ef",
   "outputs": [],
   "execution_count": 3
  },
  {
   "metadata": {
    "jupyter": {
     "is_executing": true
    },
    "ExecuteTime": {
     "start_time": "2025-06-18T14:35:57.060220Z"
    }
   },
   "cell_type": "code",
   "source": [
    "if __name__ == \"__main__\":\n",
    "    model, _ = get_model_for_problem_formulation(3)\n",
    "    scenarios=1000\n",
    "    #policies=4\n",
    "    with MultiprocessingEvaluator(model, n_processes=-1) as evaluator:\n",
    "        results = evaluator.perform_experiments(scenarios=scenarios, policies=candidate_policies )\n",
    "\n",
    "        experiments, outcomes = results"
   ],
   "id": "49d745c10604b5b1",
   "outputs": [],
   "execution_count": null
  },
  {
   "metadata": {},
   "cell_type": "code",
   "outputs": [],
   "execution_count": null,
   "source": [
    "hri_sys = outcomes[\"A.2_HRI per dike\"]\n",
    "hri_q25 = np.percentile(hri_sys, 25)# (N,) systeembreed\n",
    "target_hri = hri_sys <= hri_q25\n",
    "\n",
    "        # ---- 2.2 Expected Annual Damage ----\n",
    "ead_total = outcomes[\"A.2 Total Costs\"] # (N,)\n",
    "ead_q75 = np.percentile(ead_total, 75)\n",
    "target_ead = ead_total >= ead_q75\n",
    "\n",
    "        # ---- 2.4 Combineer tot één worst-case target ----\n",
    "y = target_hri | target_ead\n",
    "\n",
    "print(f\"worst-cases: {y.sum()} van {n_scenarios*policies} runs  ({y.mean()*100:.1f} %)\")\n",
    "\n",
    "        # Determine model uncertainties\n",
    "cols_unc = [u.name for u in model.uncertainties]\n",
    "X = experiments[cols_unc]\n",
    "\n",
    "#Start PRIM\n",
    "prim_alg = prim.Prim(\n",
    "            X, y,\n",
    "            threshold=0.80,\n",
    "        )\n",
    "\n",
    "print(\"Aantal opgeslagen boxen:\", len(prim_alg.boxes))"
   ],
   "id": "4e1ea605df865e02"
  },
  {
   "metadata": {},
   "cell_type": "code",
   "outputs": [],
   "execution_count": null,
   "source": [
    "# A) De “beste” box volgens je threshold\n",
    "box = prim_alg.find_box()\n",
    "box.inspect()\n",
    "box.show_tradeoff()\n",
    "plt.show()# geeft een PrimBox terug\n",
    "traj = box.peeling_trajectory\n",
    "print(len(traj), \"stappen in deze box\")"
   ],
   "id": "de8e1221562c27e5"
  },
  {
   "metadata": {},
   "cell_type": "code",
   "outputs": [],
   "execution_count": null,
   "source": [
    "# en inspecteer 'm meteen\n",
    "box.inspect( style=\"graph\" )"
   ],
   "id": "f38ad2d98808fa02"
  },
  {
   "metadata": {},
   "cell_type": "code",
   "outputs": [],
   "execution_count": null,
   "source": [
    "fig = box.show_pairs_scatter()\n",
    "plt.show()"
   ],
   "id": "5a8c2afcee67080"
  },
  {
   "metadata": {},
   "cell_type": "code",
   "outputs": [],
   "execution_count": null,
   "source": [
    "lever_names = [lev.name for lev in model.levers]\n",
    "experiments_unc = experiments.drop(columns=lever_names)\n",
    "\n",
    "\n",
    "# even checken:\n",
    "print(\"origineel aantal kolommen:\", experiments.shape[1])\n",
    "print(\"zonder levers           :\", experiments_unc.shape[1])\n",
    "\n",
    "dimensional_stacking.create_pivot_plot(experiments_unc, y)"
   ],
   "id": "e282cc0422eaec11"
  },
  {
   "metadata": {},
   "cell_type": "code",
   "outputs": [],
   "execution_count": null,
   "source": [
    "# 1) Haal de grenzen op uit de box (list met één entry per box in je peeling_trajectory)\n",
    "raw_limits = box.box_lims[0]\n",
    "\n",
    "# 1) Transponeren, zodat elke var een rij wordt, en de kolommen 0 en 1 zijn\n",
    "df_lim = raw_limits.T\n",
    "\n",
    "# 2) Hernoemen van de kolommen 0→min en 1→max\n",
    "df_lim = df_lim.rename(columns={0: \"min\", 1: \"max\"})\n",
    "\n",
    "# 3) (optioneel) zet de index-naam netjes\n",
    "df_lim.index.name = \"var\""
   ],
   "id": "e3be2b8959eee7ec"
  },
  {
   "metadata": {},
   "cell_type": "code",
   "outputs": [],
   "execution_count": null,
   "source": [
    "df_lim\n",
    "mask = pd.Series(True, index=experiments.index)\n",
    "\n",
    "for var, row in df_lim.iterrows():\n",
    "    lo, hi = row[\"min\"], row[\"max\"]\n",
    "    ser = experiments[var]\n",
    "\n",
    "    if is_numeric_dtype(ser):\n",
    "        # voor numerieke parameters\n",
    "        mask &= ser.between(lo, hi)\n",
    "    else:\n",
    "        # voor categorische parameters\n",
    "        # lo kan een set/list zijn, of een enkele waarde\n",
    "        if isinstance(lo, (set, list)):\n",
    "            mask &= ser.isin(lo)\n",
    "        else:\n",
    "            mask &= (ser == lo)\n",
    "\n",
    "exp_in_box = experiments[mask]\n",
    "out_in_box = {\n",
    "    name: array[mask.values]  # .values is een numpy‐boolean array\n",
    "    for name, array in outcomes.items()\n",
    "}"
   ],
   "id": "dd3fc8281e1a1dda"
  },
  {
   "metadata": {},
   "cell_type": "code",
   "outputs": [],
   "execution_count": null,
   "source": [
    "expanded = {}\n",
    "for name, arr in out_in_box.items():\n",
    "    if arr.ndim == 1:\n",
    "        # gewoon een vector\n",
    "        expanded[name] = arr\n",
    "    else:\n",
    "        # maak per tijdstap een kolom\n",
    "        T = arr.shape[1]\n",
    "        for t in range(T):\n",
    "            expanded[f\"{name}_{t}\"] = arr[:, t]\n",
    "\n",
    "out_df = pd.DataFrame(expanded)"
   ],
   "id": "db43731e120c8f"
  },
  {
   "metadata": {},
   "cell_type": "code",
   "outputs": [],
   "execution_count": null,
   "source": [
    "exp_in_box['worst_case']=y[exp_in_box.index]\n",
    "true_worst= exp_in_box[exp_in_box['worst_case']]\n"
   ],
   "id": "9781b5257d79405d"
  },
  {
   "metadata": {},
   "cell_type": "code",
   "outputs": [],
   "execution_count": null,
   "source": [
    "# --- 1) Maak één Series van alle total costs, met de originele index ---\n",
    "all_costs = pd.Series(\n",
    "    out_in_box['A.2 Total Costs'],       # numpy array voor _alle_ runs in out_in_box\n",
    "    index = exp_in_box.index              # die hoort dezelfde lengte en index labels te hebben\n",
    ")\n",
    "\n",
    "# --- 2) Filter die Series naar alleen de worst‐case subset (true_worst.index) ---\n",
    "worst_costs = all_costs.loc[true_worst.index]\n",
    "\n",
    "# --- 3) Wijs die gefilterde Series toe als nieuwe kolom ---\n",
    "true_worst = true_worst.assign(total_costs=worst_costs)"
   ],
   "id": "512d3d74c2d9379c"
  },
  {
   "metadata": {},
   "cell_type": "code",
   "outputs": [],
   "execution_count": null,
   "source": [
    "true_worst['total_costs'] = pd.Series(\n",
    "    out_in_box['A.2 Total Costs'],\n",
    "    index=exp_in_box.index\n",
    ").loc[true_worst.index]"
   ],
   "id": "78ff0acefa343041"
  },
  {
   "metadata": {},
   "cell_type": "code",
   "outputs": [],
   "execution_count": null,
   "source": [
    "# --- 1) Maak één Series van alle total costs, met de originele index ---\n",
    "all_costs = pd.Series(\n",
    "    out_in_box['A.2_HRI per dike'],       # numpy array voor _alle_ runs in out_in_box\n",
    "    index = exp_in_box.index              # die hoort dezelfde lengte en index labels te hebben\n",
    ")\n",
    "\n",
    "# --- 2) Filter die Series naar alleen de worst‐case subset (true_worst.index) ---\n",
    "worst_HRI = all_costs.loc[true_worst.index]\n",
    "\n",
    "# --- 3) Wijs die gefilterde Series toe als nieuwe kolom ---\n",
    "true_worst = true_worst.assign(HRI=worst_HRI)"
   ],
   "id": "cc2eeae76f9be25f"
  },
  {
   "metadata": {},
   "cell_type": "code",
   "outputs": [],
   "execution_count": null,
   "source": [
    "# 1) min-max schaal HRI en costs\n",
    "hri = true_worst['HRI']\n",
    "cost = true_worst['total_costs']\n",
    "\n",
    "hri_scaled = (hri - hri.min()) / (hri.max() - hri.min())\n",
    "cost_scaled = (cost - cost.min()) / (cost.max() - cost.min())\n",
    "\n",
    "# 2) keer de costs om\n",
    "inv_cost = 1 - cost_scaled\n",
    "\n",
    "# 3) bereken de samengestelde score\n",
    "score = hri_scaled * inv_cost\n",
    "\n",
    "# 4) voeg toe aan true_worst\n",
    "true_worst = true_worst.assign(\n",
    "    hri_scaled = hri_scaled,\n",
    "    cost_scaled = cost_scaled,\n",
    "    inv_cost    = inv_cost,\n",
    "    score       = score\n",
    ")\n",
    "\n",
    "true_worst.head()"
   ],
   "id": "b477805e095a3bdb"
  },
  {
   "metadata": {},
   "cell_type": "code",
   "outputs": [],
   "execution_count": null,
   "source": [
    "best  = true_worst.nlargest(1, 'score')   #best case is hoogste\n",
    "worst = true_worst.nsmallest(1,  'score')      #worst case is laagste\n",
    "mid   = true_worst.iloc[[len(true_worst)//2]]\n",
    "\n",
    "best_s   = best.iloc[0]  # of .iloc[0]\n",
    "mid_s = mid.iloc[0]\n",
    "worst_s  = worst.iloc[0]\n",
    "\n",
    "\n",
    "\n",
    "df_scenarios = pd.DataFrame([\n",
    "    best_s.to_dict(),\n",
    "    mid_s.to_dict(),\n",
    "    worst_s.to_dict()\n",
    "], index=[\"best_case\", \"median_case\", \"worst_case\"])\n",
    "\n",
    "df_scenarios = (\n",
    "    df_scenarios\n",
    "    .rename(columns={\"scenario.1\": \"scenario\"})  # als hij zo heet\n",
    "    .set_index(\"scenario\")                        # zet de kolom als index\n",
    ")"
   ],
   "id": "aef3f5f18b837e89"
  },
  {
   "metadata": {},
   "cell_type": "code",
   "outputs": [],
   "execution_count": null,
   "source": "df_scenarios.to_csv(\"reference_scenarios.csv\", index_label=\"scenario\")\n",
   "id": "4b6d8d434b32b9b5"
  },
  {
   "metadata": {},
   "cell_type": "code",
   "outputs": [],
   "execution_count": null,
   "source": [
    "candidate_scenarios = [\n",
    "    Scenario(f\"scenario_{idx}\", **row.to_dict())\n",
    "    for idx, row in df_scenarios.iterrows()\n",
    "]"
   ],
   "id": "70e0e1c2f0338e3d"
  },
  {
   "metadata": {},
   "cell_type": "code",
   "outputs": [],
   "execution_count": null,
   "source": [
    "for scenario in candidate_scenarios:\n",
    "    print(scenario)"
   ],
   "id": "803cefcca140f2eb"
  }
 ],
 "metadata": {
  "kernelspec": {
   "display_name": "Python 3",
   "language": "python",
   "name": "python3"
  },
  "language_info": {
   "codemirror_mode": {
    "name": "ipython",
    "version": 2
   },
   "file_extension": ".py",
   "mimetype": "text/x-python",
   "name": "python",
   "nbconvert_exporter": "python",
   "pygments_lexer": "ipython2",
   "version": "2.7.6"
  }
 },
 "nbformat": 4,
 "nbformat_minor": 5
}
