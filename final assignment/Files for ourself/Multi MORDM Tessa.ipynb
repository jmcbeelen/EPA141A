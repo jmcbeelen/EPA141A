{
 "cells": [
  {
   "cell_type": "code",
   "id": "initial_id",
   "metadata": {
    "collapsed": true,
    "ExecuteTime": {
     "end_time": "2025-06-17T07:02:53.960206Z",
     "start_time": "2025-06-17T07:02:53.955095Z"
    }
   },
   "source": [
    "from ema_workbench import Scenario\n",
    "from ema_workbench import Model, MultiprocessingEvaluator, Policy, Scenario\n",
    "\n",
    "from ema_workbench.em_framework.evaluators import perform_experiments\n",
    "from ema_workbench.em_framework.samplers import sample_uncertainties\n",
    "from ema_workbench.util import ema_logging\n",
    "import time\n",
    "from problem_formulation import get_model_for_problem_formulation\n",
    "from ema_workbench.analysis import pairs_plotting\n",
    "import numpy as np\n",
    "import pandas as pd\n",
    "import seaborn as sns\n",
    "import matplotlib.pyplot as plt\n",
    "from ema_workbench.analysis import prim\n",
    "from ema_workbench.analysis import dimensional_stacking\n",
    "\n",
    "from ema_workbench.analysis import feature_scoring\n",
    "from pandas.api.types import is_numeric_dtype, is_categorical_dtype\n",
    "from sklearn import preprocessing\n",
    "from ema_workbench.em_framework.optimization import (ArchiveLogger,\n",
    "                                                     EpsilonProgress,\n",
    "                                                     to_problem, epsilon_nondominated)\n",
    "\n",
    "from ema_workbench import ScalarOutcome\n",
    "\n",
    "ema_logging.log_to_stderr(ema_logging.INFO)\n",
    "\n"
   ],
   "outputs": [],
   "execution_count": 2
  },
  {
   "metadata": {
    "ExecuteTime": {
     "end_time": "2025-06-17T07:02:53.980757Z",
     "start_time": "2025-06-17T07:02:53.968666Z"
    }
   },
   "cell_type": "code",
   "source": [
    "df_scenarios= pd.read_csv('../reference_scenarios.csv')\n",
    "\n",
    "df_scenarios = (\n",
    "    df_scenarios\n",
    "    .rename(columns={\"scenario.1\": \"scenario\"})  # als hij zo heet\n",
    "    .set_index(\"scenario\")                        # zet de kolom als index\n",
    ")"
   ],
   "id": "f81344eae289a6c9",
   "outputs": [],
   "execution_count": 3
  },
  {
   "metadata": {
    "ExecuteTime": {
     "end_time": "2025-06-17T07:02:53.996331Z",
     "start_time": "2025-06-17T07:02:53.991339Z"
    }
   },
   "cell_type": "code",
   "source": [
    "# lees de CSV in met de gevonden policies vanuit de MORDM\n",
    "policies_df = pd.read_csv(\"../candidate_policies.csv\")\n",
    "\n",
    "# zet elke rij om in een Policy-object\n",
    "candidate_policies = [\n",
    "    Policy(f\"cand_{i}\", **row.to_dict())\n",
    "    for i, row in policies_df.iterrows()\n",
    "\n",
    "    ]"
   ],
   "id": "ae7f68cdb05f3441",
   "outputs": [],
   "execution_count": 4
  },
  {
   "metadata": {
    "ExecuteTime": {
     "end_time": "2025-06-17T08:03:26.255912Z",
     "start_time": "2025-06-17T08:03:08.758873Z"
    }
   },
   "cell_type": "code",
   "source": [
    "if __name__ == \"__main__\":\n",
    "    model, _ = get_model_for_problem_formulation(3)\n",
    "    scenarios=10\n",
    "    policies=4\n",
    "    with MultiprocessingEvaluator(model, n_processes=-1) as evaluator:\n",
    "        results = evaluator.perform_experiments(scenarios=scenarios, policies=candidate_policies )\n",
    "\n",
    "        experiments, outcomes = results"
   ],
   "id": "676084dd12ea0352",
   "outputs": [
    {
     "name": "stderr",
     "output_type": "stream",
     "text": [
      "[MainProcess/INFO] pool started with 7 workers\n",
      "\n",
      "  0%|                                                  | 0/150 [00:00<?, ?it/s]\u001B[A\n",
      "  1%|▎                                         | 1/150 [00:00<00:44,  3.35it/s]\u001B[A\n",
      "  5%|██▏                                       | 8/150 [00:00<00:09, 14.86it/s]\u001B[A\n",
      " 10%|████                                     | 15/150 [00:00<00:06, 19.89it/s]\u001B[A\n",
      " 14%|█████▋                                   | 21/150 [00:01<00:05, 24.02it/s]\u001B[A\n",
      " 16%|██████▌                                  | 24/150 [00:01<00:05, 23.06it/s]\u001B[A\n",
      " 19%|███████▋                                 | 28/150 [00:01<00:05, 23.00it/s]\u001B[A\n",
      " 21%|████████▍                                | 31/150 [00:01<00:05, 22.45it/s]\u001B[A\n",
      " 23%|█████████▌                               | 35/150 [00:01<00:05, 19.77it/s]\u001B[A\n",
      " 28%|███████████▍                             | 42/150 [00:02<00:04, 22.50it/s]\u001B[A\n",
      " 32%|█████████████                            | 48/150 [00:02<00:03, 26.38it/s]\u001B[A\n",
      " 34%|█████████████▉                           | 51/150 [00:02<00:04, 21.75it/s]\u001B[A\n",
      " 37%|███████████████▎                         | 56/150 [00:02<00:04, 22.60it/s]\u001B[A\n",
      " 39%|████████████████▏                        | 59/150 [00:02<00:03, 23.01it/s]\u001B[A\n",
      " 42%|█████████████████▏                       | 63/150 [00:02<00:03, 23.10it/s]\u001B[A\n",
      " 44%|██████████████████                       | 66/150 [00:03<00:03, 21.86it/s]\u001B[A\n",
      " 47%|███████████████████▏                     | 70/150 [00:03<00:03, 23.57it/s]\u001B[A\n",
      " 49%|███████████████████▉                     | 73/150 [00:03<00:03, 20.45it/s]\u001B[A\n",
      " 51%|█████████████████████                    | 77/150 [00:03<00:03, 23.54it/s]\u001B[A\n",
      " 53%|█████████████████████▊                   | 80/150 [00:03<00:03, 19.21it/s]\u001B[A\n",
      " 56%|██████████████████████▉                  | 84/150 [00:03<00:02, 22.75it/s]\u001B[A\n",
      " 58%|███████████████████████▊                 | 87/150 [00:04<00:03, 19.03it/s]\u001B[A\n",
      " 61%|████████████████████████▊                | 91/150 [00:04<00:02, 22.44it/s]\u001B[A\n",
      " 63%|█████████████████████████▋               | 94/150 [00:04<00:03, 17.64it/s]\u001B[A\n",
      " 66%|███████████████████████████              | 99/150 [00:04<00:02, 18.18it/s]\u001B[A\n",
      " 69%|███████████████████████████▋            | 104/150 [00:04<00:02, 21.88it/s]\u001B[A\n",
      " 71%|████████████████████████████▌           | 107/150 [00:05<00:02, 15.82it/s]\u001B[A\n",
      " 75%|█████████████████████████████▊          | 112/150 [00:05<00:02, 17.06it/s]\u001B[A\n",
      " 76%|██████████████████████████████▍         | 114/150 [00:05<00:02, 16.15it/s]\u001B[A\n",
      " 79%|███████████████████████████████▋        | 119/150 [00:05<00:01, 19.52it/s]\u001B[A\n",
      " 81%|████████████████████████████████▌       | 122/150 [00:06<00:01, 18.27it/s]\u001B[A\n",
      " 84%|█████████████████████████████████▌      | 126/150 [00:06<00:01, 20.43it/s]\u001B[A\n",
      " 86%|██████████████████████████████████▍     | 129/150 [00:06<00:01, 19.34it/s]\u001B[A\n",
      " 89%|███████████████████████████████████▍    | 133/150 [00:06<00:00, 21.08it/s]\u001B[A\n",
      " 91%|████████████████████████████████████▎   | 136/150 [00:06<00:00, 17.79it/s]\u001B[A\n",
      " 93%|█████████████████████████████████████▎  | 140/150 [00:06<00:00, 19.70it/s]\u001B[A\n",
      " 95%|██████████████████████████████████████▏ | 143/150 [00:07<00:00, 18.26it/s]\u001B[A\n",
      " 98%|███████████████████████████████████████▏| 147/150 [00:07<00:00, 20.74it/s]\u001B[A\n",
      "100%|████████████████████████████████████████| 150/150 [00:07<00:00, 20.21it/s]\u001B[A\n",
      "[MainProcess/INFO] terminating pool\n"
     ]
    }
   ],
   "execution_count": 19
  },
  {
   "metadata": {
    "ExecuteTime": {
     "end_time": "2025-06-17T07:16:43.270660Z",
     "start_time": "2025-06-17T07:16:43.269428Z"
    }
   },
   "cell_type": "code",
   "source": "",
   "id": "5c0e67aa4cd9fd84",
   "outputs": [],
   "execution_count": null
  },
  {
   "metadata": {
    "ExecuteTime": {
     "end_time": "2025-06-17T08:03:34.004821Z",
     "start_time": "2025-06-17T08:03:34.000723Z"
    }
   },
   "cell_type": "code",
   "source": "cols_unc = [u.name for u in model.uncertainties]\n",
   "id": "d36ccc7a26c9ad01",
   "outputs": [],
   "execution_count": 20
  },
  {
   "metadata": {
    "ExecuteTime": {
     "end_time": "2025-06-17T08:03:34.888942Z",
     "start_time": "2025-06-17T08:03:34.873528Z"
    }
   },
   "cell_type": "code",
   "source": [
    "df_scenarios=df_scenarios[cols_unc]\n",
    "df_scenarios"
   ],
   "id": "2bb2fbc0d0258399",
   "outputs": [
    {
     "data": {
      "text/plain": [
       "                     discount rate 0  discount rate 1  discount rate 2  \\\n",
       "scenario                                                                 \n",
       "(best_case, 1257)                1.5              3.5              2.5   \n",
       "(median_case, 2101)              3.5              1.5              4.5   \n",
       "(worst_case, 2038)               1.5              1.5              1.5   \n",
       "\n",
       "                     A.0_ID flood wave shape    A.1_Bmax  A.1_pfail  \\\n",
       "scenario                                                              \n",
       "(best_case, 1257)                          3  240.596860   0.800122   \n",
       "(median_case, 2101)                       60  148.203377   0.946282   \n",
       "(worst_case, 2038)                        67   98.267897   0.749968   \n",
       "\n",
       "                     A.1_Brate    A.2_Bmax  A.2_pfail  A.2_Brate    A.3_Bmax  \\\n",
       "scenario                                                                       \n",
       "(best_case, 1257)         10.0  162.388872   0.248191       10.0   97.503836   \n",
       "(median_case, 2101)       10.0  330.511958   0.481342       10.0  321.353772   \n",
       "(worst_case, 2038)        10.0  230.389994   0.020571        1.0  200.050942   \n",
       "\n",
       "                     A.3_pfail  A.3_Brate    A.4_Bmax  A.4_pfail  A.4_Brate  \\\n",
       "scenario                                                                      \n",
       "(best_case, 1257)     0.472066        1.5  182.792381   0.990409        1.5   \n",
       "(median_case, 2101)   0.104562        1.0  231.761207   0.301204        1.0   \n",
       "(worst_case, 2038)    0.210249        1.0  332.334382   0.504365        1.5   \n",
       "\n",
       "                       A.5_Bmax  A.5_pfail  A.5_Brate  \n",
       "scenario                                               \n",
       "(best_case, 1257)    113.367141   0.943914        1.5  \n",
       "(median_case, 2101)   51.527901   0.763490       10.0  \n",
       "(worst_case, 2038)    76.649077   0.514293        1.0  "
      ],
      "text/html": [
       "<div>\n",
       "<style scoped>\n",
       "    .dataframe tbody tr th:only-of-type {\n",
       "        vertical-align: middle;\n",
       "    }\n",
       "\n",
       "    .dataframe tbody tr th {\n",
       "        vertical-align: top;\n",
       "    }\n",
       "\n",
       "    .dataframe thead th {\n",
       "        text-align: right;\n",
       "    }\n",
       "</style>\n",
       "<table border=\"1\" class=\"dataframe\">\n",
       "  <thead>\n",
       "    <tr style=\"text-align: right;\">\n",
       "      <th></th>\n",
       "      <th>discount rate 0</th>\n",
       "      <th>discount rate 1</th>\n",
       "      <th>discount rate 2</th>\n",
       "      <th>A.0_ID flood wave shape</th>\n",
       "      <th>A.1_Bmax</th>\n",
       "      <th>A.1_pfail</th>\n",
       "      <th>A.1_Brate</th>\n",
       "      <th>A.2_Bmax</th>\n",
       "      <th>A.2_pfail</th>\n",
       "      <th>A.2_Brate</th>\n",
       "      <th>A.3_Bmax</th>\n",
       "      <th>A.3_pfail</th>\n",
       "      <th>A.3_Brate</th>\n",
       "      <th>A.4_Bmax</th>\n",
       "      <th>A.4_pfail</th>\n",
       "      <th>A.4_Brate</th>\n",
       "      <th>A.5_Bmax</th>\n",
       "      <th>A.5_pfail</th>\n",
       "      <th>A.5_Brate</th>\n",
       "    </tr>\n",
       "    <tr>\n",
       "      <th>scenario</th>\n",
       "      <th></th>\n",
       "      <th></th>\n",
       "      <th></th>\n",
       "      <th></th>\n",
       "      <th></th>\n",
       "      <th></th>\n",
       "      <th></th>\n",
       "      <th></th>\n",
       "      <th></th>\n",
       "      <th></th>\n",
       "      <th></th>\n",
       "      <th></th>\n",
       "      <th></th>\n",
       "      <th></th>\n",
       "      <th></th>\n",
       "      <th></th>\n",
       "      <th></th>\n",
       "      <th></th>\n",
       "      <th></th>\n",
       "    </tr>\n",
       "  </thead>\n",
       "  <tbody>\n",
       "    <tr>\n",
       "      <th>(best_case, 1257)</th>\n",
       "      <td>1.5</td>\n",
       "      <td>3.5</td>\n",
       "      <td>2.5</td>\n",
       "      <td>3</td>\n",
       "      <td>240.596860</td>\n",
       "      <td>0.800122</td>\n",
       "      <td>10.0</td>\n",
       "      <td>162.388872</td>\n",
       "      <td>0.248191</td>\n",
       "      <td>10.0</td>\n",
       "      <td>97.503836</td>\n",
       "      <td>0.472066</td>\n",
       "      <td>1.5</td>\n",
       "      <td>182.792381</td>\n",
       "      <td>0.990409</td>\n",
       "      <td>1.5</td>\n",
       "      <td>113.367141</td>\n",
       "      <td>0.943914</td>\n",
       "      <td>1.5</td>\n",
       "    </tr>\n",
       "    <tr>\n",
       "      <th>(median_case, 2101)</th>\n",
       "      <td>3.5</td>\n",
       "      <td>1.5</td>\n",
       "      <td>4.5</td>\n",
       "      <td>60</td>\n",
       "      <td>148.203377</td>\n",
       "      <td>0.946282</td>\n",
       "      <td>10.0</td>\n",
       "      <td>330.511958</td>\n",
       "      <td>0.481342</td>\n",
       "      <td>10.0</td>\n",
       "      <td>321.353772</td>\n",
       "      <td>0.104562</td>\n",
       "      <td>1.0</td>\n",
       "      <td>231.761207</td>\n",
       "      <td>0.301204</td>\n",
       "      <td>1.0</td>\n",
       "      <td>51.527901</td>\n",
       "      <td>0.763490</td>\n",
       "      <td>10.0</td>\n",
       "    </tr>\n",
       "    <tr>\n",
       "      <th>(worst_case, 2038)</th>\n",
       "      <td>1.5</td>\n",
       "      <td>1.5</td>\n",
       "      <td>1.5</td>\n",
       "      <td>67</td>\n",
       "      <td>98.267897</td>\n",
       "      <td>0.749968</td>\n",
       "      <td>10.0</td>\n",
       "      <td>230.389994</td>\n",
       "      <td>0.020571</td>\n",
       "      <td>1.0</td>\n",
       "      <td>200.050942</td>\n",
       "      <td>0.210249</td>\n",
       "      <td>1.0</td>\n",
       "      <td>332.334382</td>\n",
       "      <td>0.504365</td>\n",
       "      <td>1.5</td>\n",
       "      <td>76.649077</td>\n",
       "      <td>0.514293</td>\n",
       "      <td>1.0</td>\n",
       "    </tr>\n",
       "  </tbody>\n",
       "</table>\n",
       "</div>"
      ]
     },
     "execution_count": 21,
     "metadata": {},
     "output_type": "execute_result"
    }
   ],
   "execution_count": 21
  },
  {
   "metadata": {
    "ExecuteTime": {
     "end_time": "2025-06-17T08:03:37.782351Z",
     "start_time": "2025-06-17T08:03:37.777713Z"
    }
   },
   "cell_type": "code",
   "source": [
    "candidate_scenarios = [\n",
    "    Scenario(f\"scenario_{idx}\", **row.to_dict())\n",
    "    for idx, row in df_scenarios.iterrows()\n",
    "]\n"
   ],
   "id": "99f7ee9f335d0be0",
   "outputs": [],
   "execution_count": 22
  },
  {
   "metadata": {
    "ExecuteTime": {
     "end_time": "2025-06-17T08:03:38.983443Z",
     "start_time": "2025-06-17T08:03:38.979702Z"
    }
   },
   "cell_type": "code",
   "source": [
    "for scen in candidate_scenarios:\n",
    "    # print eerst de door jou opgegeven naam\n",
    "    print(\"naam:\", scen.name)\n",
    "    # en daarna de waarden\n",
    "    print(scen)\n",
    "    print()"
   ],
   "id": "6322b26557f6572d",
   "outputs": [
    {
     "name": "stdout",
     "output_type": "stream",
     "text": [
      "naam: scenario_('best_case', 1257)\n",
      "Scenario({'discount rate 0': 1.5, 'discount rate 1': 3.5, 'discount rate 2': 2.5, 'A.0_ID flood wave shape': 3.0, 'A.1_Bmax': 240.59685979062849, 'A.1_pfail': 0.8001218927421738, 'A.1_Brate': 10.0, 'A.2_Bmax': 162.38887188791776, 'A.2_pfail': 0.2481911050156166, 'A.2_Brate': 10.0, 'A.3_Bmax': 97.50383584323322, 'A.3_pfail': 0.4720661557138879, 'A.3_Brate': 1.5, 'A.4_Bmax': 182.79238065321385, 'A.4_pfail': 0.9904093412209528, 'A.4_Brate': 1.5, 'A.5_Bmax': 113.36714090569951, 'A.5_pfail': 0.9439138828869614, 'A.5_Brate': 1.5})\n",
      "\n",
      "naam: scenario_('median_case', 2101)\n",
      "Scenario({'discount rate 0': 3.5, 'discount rate 1': 1.5, 'discount rate 2': 4.5, 'A.0_ID flood wave shape': 60.0, 'A.1_Bmax': 148.20337687059146, 'A.1_pfail': 0.946281506727712, 'A.1_Brate': 10.0, 'A.2_Bmax': 330.5119580334476, 'A.2_pfail': 0.4813418702616602, 'A.2_Brate': 10.0, 'A.3_Bmax': 321.3537718997584, 'A.3_pfail': 0.1045617305588998, 'A.3_Brate': 1.0, 'A.4_Bmax': 231.76120691375925, 'A.4_pfail': 0.3012035730992656, 'A.4_Brate': 1.0, 'A.5_Bmax': 51.52790116479012, 'A.5_pfail': 0.7634895299954115, 'A.5_Brate': 10.0})\n",
      "\n",
      "naam: scenario_('worst_case', 2038)\n",
      "Scenario({'discount rate 0': 1.5, 'discount rate 1': 1.5, 'discount rate 2': 1.5, 'A.0_ID flood wave shape': 67.0, 'A.1_Bmax': 98.26789685807802, 'A.1_pfail': 0.749968397602607, 'A.1_Brate': 10.0, 'A.2_Bmax': 230.38999356466817, 'A.2_pfail': 0.0205706971021921, 'A.2_Brate': 1.0, 'A.3_Bmax': 200.0509418541768, 'A.3_pfail': 0.2102494960601273, 'A.3_Brate': 1.0, 'A.4_Bmax': 332.33438159653, 'A.4_pfail': 0.5043647265687731, 'A.4_Brate': 1.5, 'A.5_Bmax': 76.64907703355847, 'A.5_pfail': 0.5142930803846346, 'A.5_Brate': 1.0})\n",
      "\n"
     ]
    }
   ],
   "execution_count": 23
  },
  {
   "metadata": {
    "ExecuteTime": {
     "end_time": "2025-06-17T08:03:41.989895Z",
     "start_time": "2025-06-17T08:03:41.987077Z"
    }
   },
   "cell_type": "code",
   "source": "",
   "id": "acf53866996ddced",
   "outputs": [],
   "execution_count": null
  },
  {
   "metadata": {
    "ExecuteTime": {
     "end_time": "2025-06-17T08:03:42.352954Z",
     "start_time": "2025-06-17T08:03:42.351119Z"
    }
   },
   "cell_type": "code",
   "source": "",
   "id": "aff3ea7ca4f377e9",
   "outputs": [],
   "execution_count": null
  },
  {
   "metadata": {
    "ExecuteTime": {
     "end_time": "2025-06-17T08:06:59.867491Z",
     "start_time": "2025-06-17T08:06:59.853092Z"
    }
   },
   "cell_type": "code",
   "source": [
    "ema_logging.log_to_stderr(ema_logging.INFO)\n",
    "\n",
    "def optimize(scenario, nfe, model, epsilons):\n",
    "    results = []\n",
    "    convergences = []\n",
    "    problem = to_problem(model, searchover=\"levers\")\n",
    "\n",
    "    with MultiprocessingEvaluator(model) as evaluator:\n",
    "        for i in range(5):\n",
    "            convergence_metrics = [\n",
    "                ArchiveLogger(\n",
    "                    \"./archives\",\n",
    "                    [l.name for l in model.levers],\n",
    "                    [o.name for o in model.outcomes],\n",
    "                    base_filename=f\"multi_MORDM_{scenario.name}_seed_{i}.tar.gz\",\n",
    "                ),\n",
    "                EpsilonProgress(),\n",
    "            ]\n",
    "\n",
    "            result, convergence = evaluator.optimize(nfe=nfe, searchover='levers',\n",
    "                                         convergence=convergence_metrics,\n",
    "                                         epsilons=epsilons,\n",
    "                                         reference=scenario)\n",
    "\n",
    "            results.append(result)\n",
    "            convergences.append(convergence)\n",
    "\n",
    "    # merge the results using a non-dominated sort\n",
    "    reference_set = epsilon_nondominated(results, epsilons, problem)\n",
    "\n",
    "    return reference_set, convergences\n",
    "\n"
   ],
   "id": "ebb48f7d43879ff5",
   "outputs": [],
   "execution_count": 26
  },
  {
   "metadata": {
    "ExecuteTime": {
     "end_time": "2025-06-17T08:09:09.265512Z",
     "start_time": "2025-06-17T08:08:34.793429Z"
    }
   },
   "cell_type": "code",
   "source": [
    "results = []\n",
    "for scenario in candidate_scenarios:\n",
    "    epsilons = [0.05,]*len(model.outcomes)\n",
    "\n",
    "    # note that 100000 nfe is again rather low to ensure proper convergence\n",
    "    results.append(optimize(scenario, 100, model, epsilons))"
   ],
   "id": "e1a780c06be64b2b",
   "outputs": [
    {
     "name": "stderr",
     "output_type": "stream",
     "text": [
      "[MainProcess/INFO] pool started with 8 workers\n",
      "\n",
      "\n",
      "  0%|                                                  | 0/100 [00:00<?, ?it/s]\u001B[A\u001B[AINFO | EpsNSGAII starting\n",
      "INFO | EpsNSGAII finished; Total NFE: 100, Elapsed Time: 0:00:04.361901\n",
      "\n",
      "\n",
      "100%|████████████████████████████████████████| 100/100 [00:04<00:00, 22.92it/s]\u001B[A\u001B[A\n",
      "[MainProcess/INFO] optimization completed, found 8 solutions\n",
      "\n",
      "\n",
      "  0%|                                                  | 0/100 [00:00<?, ?it/s]\u001B[A\u001B[AINFO | EpsNSGAII starting\n",
      "INFO | EpsNSGAII finished; Total NFE: 100, Elapsed Time: 0:00:04.548336\n",
      "\n",
      "\n",
      "100%|████████████████████████████████████████| 100/100 [00:04<00:00, 21.98it/s]\u001B[A\u001B[A\n",
      "[MainProcess/INFO] optimization completed, found 13 solutions\n",
      "\n",
      "\n",
      "  0%|                                                  | 0/100 [00:00<?, ?it/s]\u001B[A\u001B[AINFO | EpsNSGAII starting\n",
      "INFO | EpsNSGAII finished; Total NFE: 100, Elapsed Time: 0:00:04.492191\n",
      "\n",
      "\n",
      "100%|████████████████████████████████████████| 100/100 [00:04<00:00, 22.25it/s]\u001B[A\u001B[A\n",
      "[MainProcess/INFO] optimization completed, found 13 solutions\n",
      "\n",
      "\n",
      "  0%|                                                  | 0/100 [00:00<?, ?it/s]\u001B[A\u001B[AINFO | EpsNSGAII starting\n",
      "INFO | EpsNSGAII finished; Total NFE: 100, Elapsed Time: 0:00:04.933927\n",
      "\n",
      "\n",
      "100%|████████████████████████████████████████| 100/100 [00:04<00:00, 20.26it/s]\u001B[A\u001B[A\n",
      "[MainProcess/INFO] optimization completed, found 14 solutions\n",
      "\n",
      "\n",
      "  0%|                                                  | 0/100 [00:00<?, ?it/s]\u001B[A\u001B[AINFO | EpsNSGAII starting\n",
      "INFO | EpsNSGAII finished; Total NFE: 100, Elapsed Time: 0:00:04.909835\n",
      "\n",
      "\n",
      "100%|████████████████████████████████████████| 100/100 [00:04<00:00, 20.36it/s]\u001B[A\u001B[A\n",
      "[MainProcess/INFO] optimization completed, found 17 solutions\n",
      "[MainProcess/INFO] terminating pool\n"
     ]
    },
    {
     "ename": "EMAError",
     "evalue": "Parameter names ['0_RfR 0', '0_RfR 1', '0_RfR 2', '1_RfR 0', '1_RfR 1', '1_RfR 2', '2_RfR 0', '2_RfR 1', '2_RfR 2', '3_RfR 0', '3_RfR 1', '3_RfR 2', '4_RfR 0', '4_RfR 1', '4_RfR 2', 'A.1_DikeIncrease 0', 'A.1_DikeIncrease 1', 'A.1_DikeIncrease 2', 'A.2_DikeIncrease 0', 'A.2_DikeIncrease 1', 'A.2_DikeIncrease 2', 'A.3_DikeIncrease 0', 'A.3_DikeIncrease 1', 'A.3_DikeIncrease 2', 'A.4_DikeIncrease 0', 'A.4_DikeIncrease 1', 'A.4_DikeIncrease 2', 'A.5_DikeIncrease 0', 'A.5_DikeIncrease 1', 'A.5_DikeIncrease 2'] not found in archive",
     "output_type": "error",
     "traceback": [
      "\u001B[0;31m---------------------------------------------------------------------------\u001B[0m",
      "\u001B[0;31mAttributeError\u001B[0m                            Traceback (most recent call last)",
      "File \u001B[0;32m~/Downloads/anaconda3/lib/python3.12/site-packages/ema_workbench/em_framework/optimization.py:895\u001B[0m, in \u001B[0;36mrebuild_platypus_population\u001B[0;34m(archive, problem)\u001B[0m\n\u001B[1;32m    894\u001B[0m \u001B[38;5;28;01mtry\u001B[39;00m:\n\u001B[0;32m--> 895\u001B[0m     decision_variables \u001B[38;5;241m=\u001B[39m [\u001B[38;5;28mgetattr\u001B[39m(row, attr) \u001B[38;5;28;01mfor\u001B[39;00m attr \u001B[38;5;129;01min\u001B[39;00m problem\u001B[38;5;241m.\u001B[39mparameter_names]\n\u001B[1;32m    896\u001B[0m \u001B[38;5;28;01mexcept\u001B[39;00m \u001B[38;5;167;01mAttributeError\u001B[39;00m:\n",
      "\u001B[0;31mAttributeError\u001B[0m: 'Pandas' object has no attribute '0_RfR 0'",
      "\nDuring handling of the above exception, another exception occurred:\n",
      "\u001B[0;31mEMAError\u001B[0m                                  Traceback (most recent call last)",
      "Cell \u001B[0;32mIn[29], line 6\u001B[0m\n\u001B[1;32m      3\u001B[0m epsilons \u001B[38;5;241m=\u001B[39m [\u001B[38;5;241m0.05\u001B[39m,]\u001B[38;5;241m*\u001B[39m\u001B[38;5;28mlen\u001B[39m(model\u001B[38;5;241m.\u001B[39moutcomes)\n\u001B[1;32m      5\u001B[0m \u001B[38;5;66;03m# note that 100000 nfe is again rather low to ensure proper convergence\u001B[39;00m\n\u001B[0;32m----> 6\u001B[0m results\u001B[38;5;241m.\u001B[39mappend(optimize(scenario, \u001B[38;5;241m100\u001B[39m, model, epsilons))\n",
      "Cell \u001B[0;32mIn[26], line 29\u001B[0m, in \u001B[0;36moptimize\u001B[0;34m(scenario, nfe, model, epsilons)\u001B[0m\n\u001B[1;32m     26\u001B[0m         convergences\u001B[38;5;241m.\u001B[39mappend(convergence)\n\u001B[1;32m     28\u001B[0m \u001B[38;5;66;03m# merge the results using a non-dominated sort\u001B[39;00m\n\u001B[0;32m---> 29\u001B[0m reference_set \u001B[38;5;241m=\u001B[39m epsilon_nondominated(results, epsilons, problem)\n\u001B[1;32m     31\u001B[0m \u001B[38;5;28;01mreturn\u001B[39;00m reference_set, convergences\n",
      "File \u001B[0;32m~/Downloads/anaconda3/lib/python3.12/site-packages/ema_workbench/em_framework/optimization.py:787\u001B[0m, in \u001B[0;36mepsilon_nondominated\u001B[0;34m(results, epsilons, problem)\u001B[0m\n\u001B[1;32m    782\u001B[0m     \u001B[38;5;167;01mValueError\u001B[39;00m(\n\u001B[1;32m    783\u001B[0m         \u001B[38;5;124mf\u001B[39m\u001B[38;5;124m\"\u001B[39m\u001B[38;5;124mThe number of epsilon values (\u001B[39m\u001B[38;5;132;01m{\u001B[39;00m\u001B[38;5;28mlen\u001B[39m(epsilons)\u001B[38;5;132;01m}\u001B[39;00m\u001B[38;5;124m) must match the number of objectives \u001B[39m\u001B[38;5;132;01m{\u001B[39;00mproblem\u001B[38;5;241m.\u001B[39mnobjs\u001B[38;5;132;01m}\u001B[39;00m\u001B[38;5;124m\"\u001B[39m\n\u001B[1;32m    784\u001B[0m     )\n\u001B[1;32m    786\u001B[0m results \u001B[38;5;241m=\u001B[39m pd\u001B[38;5;241m.\u001B[39mconcat(results, ignore_index\u001B[38;5;241m=\u001B[39m\u001B[38;5;28;01mTrue\u001B[39;00m)\n\u001B[0;32m--> 787\u001B[0m solutions \u001B[38;5;241m=\u001B[39m rebuild_platypus_population(results, problem)\n\u001B[1;32m    788\u001B[0m archive \u001B[38;5;241m=\u001B[39m EpsilonBoxArchive(epsilons)\n\u001B[1;32m    789\u001B[0m archive \u001B[38;5;241m+\u001B[39m\u001B[38;5;241m=\u001B[39m solutions\n",
      "File \u001B[0;32m~/Downloads/anaconda3/lib/python3.12/site-packages/ema_workbench/em_framework/optimization.py:900\u001B[0m, in \u001B[0;36mrebuild_platypus_population\u001B[0;34m(archive, problem)\u001B[0m\n\u001B[1;32m    896\u001B[0m \u001B[38;5;28;01mexcept\u001B[39;00m \u001B[38;5;167;01mAttributeError\u001B[39;00m:\n\u001B[1;32m    897\u001B[0m     missing_parameters \u001B[38;5;241m=\u001B[39m [\n\u001B[1;32m    898\u001B[0m         attr \u001B[38;5;28;01mfor\u001B[39;00m attr \u001B[38;5;129;01min\u001B[39;00m problem\u001B[38;5;241m.\u001B[39mparameter_names \u001B[38;5;28;01mif\u001B[39;00m \u001B[38;5;129;01mnot\u001B[39;00m \u001B[38;5;28mhasattr\u001B[39m(row, attr)\n\u001B[1;32m    899\u001B[0m     ]\n\u001B[0;32m--> 900\u001B[0m     \u001B[38;5;28;01mraise\u001B[39;00m EMAError(\u001B[38;5;124mf\u001B[39m\u001B[38;5;124m\"\u001B[39m\u001B[38;5;124mParameter names \u001B[39m\u001B[38;5;132;01m{\u001B[39;00mmissing_parameters\u001B[38;5;132;01m}\u001B[39;00m\u001B[38;5;124m not found in archive\u001B[39m\u001B[38;5;124m\"\u001B[39m)\n\u001B[1;32m    902\u001B[0m \u001B[38;5;28;01mtry\u001B[39;00m:\n\u001B[1;32m    903\u001B[0m     objectives \u001B[38;5;241m=\u001B[39m [\u001B[38;5;28mgetattr\u001B[39m(row, attr) \u001B[38;5;28;01mfor\u001B[39;00m attr \u001B[38;5;129;01min\u001B[39;00m problem\u001B[38;5;241m.\u001B[39moutcome_names]\n",
      "\u001B[0;31mEMAError\u001B[0m: Parameter names ['0_RfR 0', '0_RfR 1', '0_RfR 2', '1_RfR 0', '1_RfR 1', '1_RfR 2', '2_RfR 0', '2_RfR 1', '2_RfR 2', '3_RfR 0', '3_RfR 1', '3_RfR 2', '4_RfR 0', '4_RfR 1', '4_RfR 2', 'A.1_DikeIncrease 0', 'A.1_DikeIncrease 1', 'A.1_DikeIncrease 2', 'A.2_DikeIncrease 0', 'A.2_DikeIncrease 1', 'A.2_DikeIncrease 2', 'A.3_DikeIncrease 0', 'A.3_DikeIncrease 1', 'A.3_DikeIncrease 2', 'A.4_DikeIncrease 0', 'A.4_DikeIncrease 1', 'A.4_DikeIncrease 2', 'A.5_DikeIncrease 0', 'A.5_DikeIncrease 1', 'A.5_DikeIncrease 2'] not found in archive"
     ]
    }
   ],
   "execution_count": 29
  },
  {
   "metadata": {
    "ExecuteTime": {
     "end_time": "2025-06-17T08:15:23.239792Z",
     "start_time": "2025-06-17T08:15:23.223343Z"
    }
   },
   "cell_type": "code",
   "source": [
    "from ema_workbench.em_framework.optimization import ArchiveLogger\n",
    "# if you used base_filename=\"MORDM.tar.gz\" in your logger above, adjust the path:\n",
    "archive_file = \"./archives/multi_MORDM_scenario_('best_case', 1257)_seed_2.tar.gz\"\n",
    "\n",
    "# 1) load everything that’s in that archive\n",
    "archives = ArchiveLogger.load_archives(archive_file)\n",
    "\n",
    "# archives is a dict mapping your base_filenames (e.g. \"MORDM.tar.gz\")\n",
    "# to ArchiveLogger objects, so pick one:\n",
    "arch = archives[\"multi_MORDM_scenario_('best_case', 1257)_seed_2.tar.gz\"]\n",
    "\n",
    "# 2) inspect exactly what your decision variables and outcomes are called\n",
    "print(\"   decision variables:\\n\", arch.experiments.columns.tolist())\n",
    "print(\"         outcomes keys:\\n\", list(arch.outcomes.keys()))"
   ],
   "id": "3e9691e1c6c35d20",
   "outputs": [
    {
     "ename": "KeyError",
     "evalue": "\"multi_MORDM_scenario_('best_case', 1257)_seed_2.tar.gz\"",
     "output_type": "error",
     "traceback": [
      "\u001B[0;31m---------------------------------------------------------------------------\u001B[0m",
      "\u001B[0;31mKeyError\u001B[0m                                  Traceback (most recent call last)",
      "Cell \u001B[0;32mIn[34], line 10\u001B[0m\n\u001B[1;32m      6\u001B[0m archives \u001B[38;5;241m=\u001B[39m ArchiveLogger\u001B[38;5;241m.\u001B[39mload_archives(archive_file)\n\u001B[1;32m      8\u001B[0m \u001B[38;5;66;03m# archives is a dict mapping your base_filenames (e.g. \"MORDM.tar.gz\")\u001B[39;00m\n\u001B[1;32m      9\u001B[0m \u001B[38;5;66;03m# to ArchiveLogger objects, so pick one:\u001B[39;00m\n\u001B[0;32m---> 10\u001B[0m arch \u001B[38;5;241m=\u001B[39m archives[\u001B[38;5;124m\"\u001B[39m\u001B[38;5;124mmulti_MORDM_scenario_(\u001B[39m\u001B[38;5;124m'\u001B[39m\u001B[38;5;124mbest_case\u001B[39m\u001B[38;5;124m'\u001B[39m\u001B[38;5;124m, 1257)_seed_2.tar.gz\u001B[39m\u001B[38;5;124m\"\u001B[39m]\n\u001B[1;32m     12\u001B[0m \u001B[38;5;66;03m# 2) inspect exactly what your decision variables and outcomes are called\u001B[39;00m\n\u001B[1;32m     13\u001B[0m \u001B[38;5;28mprint\u001B[39m(\u001B[38;5;124m\"\u001B[39m\u001B[38;5;124m   decision variables:\u001B[39m\u001B[38;5;130;01m\\n\u001B[39;00m\u001B[38;5;124m\"\u001B[39m, arch\u001B[38;5;241m.\u001B[39mexperiments\u001B[38;5;241m.\u001B[39mcolumns\u001B[38;5;241m.\u001B[39mtolist())\n",
      "\u001B[0;31mKeyError\u001B[0m: \"multi_MORDM_scenario_('best_case', 1257)_seed_2.tar.gz\""
     ]
    }
   ],
   "execution_count": 34
  },
  {
   "metadata": {
    "ExecuteTime": {
     "end_time": "2025-06-17T08:17:39.427227Z",
     "start_time": "2025-06-17T08:17:39.350079Z"
    }
   },
   "cell_type": "code",
   "source": [
    "# 1) load everything in that folder\n",
    "archives = ArchiveLogger.load_archives(\"../archives\")\n",
    "\n",
    "# 2) inspect the dict keys so you know how to index it\n",
    "print(\"available archives:\", list(archives.keys()))\n",
    "\n",
    "# 3) grab one of them\n",
    "#    either by matching the filename you see above, or simply:\n",
    "arch = list(archives.values())[0]\n",
    "\n",
    "# now you can inspect its experiments / outcomes:\n",
    "print(\"decision vars:\", arch.experiments.columns.tolist())\n",
    "print(\"outcome names:\", list(arch.outcomes.keys()))"
   ],
   "id": "1c768d83fb00f589",
   "outputs": [
    {
     "ename": "IsADirectoryError",
     "evalue": "[Errno 21] Is a directory: '/Users/tessahuysinga/Documents/1EPA Q4/Model-Based Decision Making/EPA141A/final assignment/archives'",
     "output_type": "error",
     "traceback": [
      "\u001B[0;31m---------------------------------------------------------------------------\u001B[0m",
      "\u001B[0;31mIsADirectoryError\u001B[0m                         Traceback (most recent call last)",
      "Cell \u001B[0;32mIn[35], line 2\u001B[0m\n\u001B[1;32m      1\u001B[0m \u001B[38;5;66;03m# 1) load everything in that folder\u001B[39;00m\n\u001B[0;32m----> 2\u001B[0m archives \u001B[38;5;241m=\u001B[39m ArchiveLogger\u001B[38;5;241m.\u001B[39mload_archives(\u001B[38;5;124m\"\u001B[39m\u001B[38;5;124m./archives\u001B[39m\u001B[38;5;124m\"\u001B[39m)\n\u001B[1;32m      4\u001B[0m \u001B[38;5;66;03m# 2) inspect the dict keys so you know how to index it\u001B[39;00m\n\u001B[1;32m      5\u001B[0m \u001B[38;5;28mprint\u001B[39m(\u001B[38;5;124m\"\u001B[39m\u001B[38;5;124mavailable archives:\u001B[39m\u001B[38;5;124m\"\u001B[39m, \u001B[38;5;28mlist\u001B[39m(archives\u001B[38;5;241m.\u001B[39mkeys()))\n",
      "File \u001B[0;32m~/Downloads/anaconda3/lib/python3.12/site-packages/ema_workbench/em_framework/optimization.py:723\u001B[0m, in \u001B[0;36mArchiveLogger.load_archives\u001B[0;34m(cls, filename)\u001B[0m\n\u001B[1;32m    710\u001B[0m \u001B[38;5;250m\u001B[39m\u001B[38;5;124;03m\"\"\"load the archives stored with the ArchiveLogger\u001B[39;00m\n\u001B[1;32m    711\u001B[0m \n\u001B[1;32m    712\u001B[0m \u001B[38;5;124;03mParameters\u001B[39;00m\n\u001B[0;32m   (...)\u001B[0m\n\u001B[1;32m    719\u001B[0m \u001B[38;5;124;03mdict with nfe as key and dataframe as vlaue\u001B[39;00m\n\u001B[1;32m    720\u001B[0m \u001B[38;5;124;03m\"\"\"\u001B[39;00m\n\u001B[1;32m    722\u001B[0m archives \u001B[38;5;241m=\u001B[39m {}\n\u001B[0;32m--> 723\u001B[0m \u001B[38;5;28;01mwith\u001B[39;00m tarfile\u001B[38;5;241m.\u001B[39mopen(os\u001B[38;5;241m.\u001B[39mpath\u001B[38;5;241m.\u001B[39mabspath(filename)) \u001B[38;5;28;01mas\u001B[39;00m fh:\n\u001B[1;32m    724\u001B[0m     \u001B[38;5;28;01mfor\u001B[39;00m entry \u001B[38;5;129;01min\u001B[39;00m fh\u001B[38;5;241m.\u001B[39mgetmembers():\n\u001B[1;32m    725\u001B[0m         \u001B[38;5;28;01mif\u001B[39;00m entry\u001B[38;5;241m.\u001B[39mname\u001B[38;5;241m.\u001B[39mendswith(\u001B[38;5;124m\"\u001B[39m\u001B[38;5;124mcsv\u001B[39m\u001B[38;5;124m\"\u001B[39m):\n",
      "File \u001B[0;32m~/Downloads/anaconda3/lib/python3.12/tarfile.py:1802\u001B[0m, in \u001B[0;36mTarFile.open\u001B[0;34m(cls, name, mode, fileobj, bufsize, **kwargs)\u001B[0m\n\u001B[1;32m   1800\u001B[0m     saved_pos \u001B[38;5;241m=\u001B[39m fileobj\u001B[38;5;241m.\u001B[39mtell()\n\u001B[1;32m   1801\u001B[0m \u001B[38;5;28;01mtry\u001B[39;00m:\n\u001B[0;32m-> 1802\u001B[0m     \u001B[38;5;28;01mreturn\u001B[39;00m func(name, \u001B[38;5;124m\"\u001B[39m\u001B[38;5;124mr\u001B[39m\u001B[38;5;124m\"\u001B[39m, fileobj, \u001B[38;5;241m*\u001B[39m\u001B[38;5;241m*\u001B[39mkwargs)\n\u001B[1;32m   1803\u001B[0m \u001B[38;5;28;01mexcept\u001B[39;00m (ReadError, CompressionError) \u001B[38;5;28;01mas\u001B[39;00m e:\n\u001B[1;32m   1804\u001B[0m     error_msgs\u001B[38;5;241m.\u001B[39mappend(\u001B[38;5;124mf\u001B[39m\u001B[38;5;124m'\u001B[39m\u001B[38;5;124m- method \u001B[39m\u001B[38;5;132;01m{\u001B[39;00mcomptype\u001B[38;5;132;01m}\u001B[39;00m\u001B[38;5;124m: \u001B[39m\u001B[38;5;132;01m{\u001B[39;00me\u001B[38;5;132;01m!r}\u001B[39;00m\u001B[38;5;124m'\u001B[39m)\n",
      "File \u001B[0;32m~/Downloads/anaconda3/lib/python3.12/tarfile.py:1870\u001B[0m, in \u001B[0;36mTarFile.gzopen\u001B[0;34m(cls, name, mode, fileobj, compresslevel, **kwargs)\u001B[0m\n\u001B[1;32m   1867\u001B[0m     \u001B[38;5;28;01mraise\u001B[39;00m CompressionError(\u001B[38;5;124m\"\u001B[39m\u001B[38;5;124mgzip module is not available\u001B[39m\u001B[38;5;124m\"\u001B[39m) \u001B[38;5;28;01mfrom\u001B[39;00m \u001B[38;5;28;01mNone\u001B[39;00m\n\u001B[1;32m   1869\u001B[0m \u001B[38;5;28;01mtry\u001B[39;00m:\n\u001B[0;32m-> 1870\u001B[0m     fileobj \u001B[38;5;241m=\u001B[39m GzipFile(name, mode \u001B[38;5;241m+\u001B[39m \u001B[38;5;124m\"\u001B[39m\u001B[38;5;124mb\u001B[39m\u001B[38;5;124m\"\u001B[39m, compresslevel, fileobj)\n\u001B[1;32m   1871\u001B[0m \u001B[38;5;28;01mexcept\u001B[39;00m \u001B[38;5;167;01mOSError\u001B[39;00m \u001B[38;5;28;01mas\u001B[39;00m e:\n\u001B[1;32m   1872\u001B[0m     \u001B[38;5;28;01mif\u001B[39;00m fileobj \u001B[38;5;129;01mis\u001B[39;00m \u001B[38;5;129;01mnot\u001B[39;00m \u001B[38;5;28;01mNone\u001B[39;00m \u001B[38;5;129;01mand\u001B[39;00m mode \u001B[38;5;241m==\u001B[39m \u001B[38;5;124m'\u001B[39m\u001B[38;5;124mr\u001B[39m\u001B[38;5;124m'\u001B[39m:\n",
      "File \u001B[0;32m~/Downloads/anaconda3/lib/python3.12/gzip.py:192\u001B[0m, in \u001B[0;36mGzipFile.__init__\u001B[0;34m(self, filename, mode, compresslevel, fileobj, mtime)\u001B[0m\n\u001B[1;32m    190\u001B[0m     mode \u001B[38;5;241m+\u001B[39m\u001B[38;5;241m=\u001B[39m \u001B[38;5;124m'\u001B[39m\u001B[38;5;124mb\u001B[39m\u001B[38;5;124m'\u001B[39m\n\u001B[1;32m    191\u001B[0m \u001B[38;5;28;01mif\u001B[39;00m fileobj \u001B[38;5;129;01mis\u001B[39;00m \u001B[38;5;28;01mNone\u001B[39;00m:\n\u001B[0;32m--> 192\u001B[0m     fileobj \u001B[38;5;241m=\u001B[39m \u001B[38;5;28mself\u001B[39m\u001B[38;5;241m.\u001B[39mmyfileobj \u001B[38;5;241m=\u001B[39m builtins\u001B[38;5;241m.\u001B[39mopen(filename, mode \u001B[38;5;129;01mor\u001B[39;00m \u001B[38;5;124m'\u001B[39m\u001B[38;5;124mrb\u001B[39m\u001B[38;5;124m'\u001B[39m)\n\u001B[1;32m    193\u001B[0m \u001B[38;5;28;01mif\u001B[39;00m filename \u001B[38;5;129;01mis\u001B[39;00m \u001B[38;5;28;01mNone\u001B[39;00m:\n\u001B[1;32m    194\u001B[0m     filename \u001B[38;5;241m=\u001B[39m \u001B[38;5;28mgetattr\u001B[39m(fileobj, \u001B[38;5;124m'\u001B[39m\u001B[38;5;124mname\u001B[39m\u001B[38;5;124m'\u001B[39m, \u001B[38;5;124m'\u001B[39m\u001B[38;5;124m'\u001B[39m)\n",
      "\u001B[0;31mIsADirectoryError\u001B[0m: [Errno 21] Is a directory: '/Users/tessahuysinga/Documents/1EPA Q4/Model-Based Decision Making/EPA141A/final assignment/archives'"
     ]
    }
   ],
   "execution_count": 35
  },
  {
   "metadata": {
    "ExecuteTime": {
     "end_time": "2025-06-17T08:18:34.096822Z",
     "start_time": "2025-06-17T08:18:34.073246Z"
    }
   },
   "cell_type": "code",
   "source": [
    "import glob\n",
    "\n",
    "archive_files = glob.glob(\"./archives/*.tar.gz\")\n",
    "\n",
    "archives = ArchiveLogger.load_archives(archive_files)\n",
    "\n"
   ],
   "id": "6d6a9412af67d1aa",
   "outputs": [
    {
     "ename": "TypeError",
     "evalue": "expected str, bytes or os.PathLike object, not list",
     "output_type": "error",
     "traceback": [
      "\u001B[0;31m---------------------------------------------------------------------------\u001B[0m",
      "\u001B[0;31mTypeError\u001B[0m                                 Traceback (most recent call last)",
      "Cell \u001B[0;32mIn[38], line 5\u001B[0m\n\u001B[1;32m      1\u001B[0m \u001B[38;5;28;01mimport\u001B[39;00m \u001B[38;5;21;01mglob\u001B[39;00m\n\u001B[1;32m      3\u001B[0m archive_files \u001B[38;5;241m=\u001B[39m glob\u001B[38;5;241m.\u001B[39mglob(\u001B[38;5;124m\"\u001B[39m\u001B[38;5;124m./archives/*.tar.gz\u001B[39m\u001B[38;5;124m\"\u001B[39m)\n\u001B[0;32m----> 5\u001B[0m archives \u001B[38;5;241m=\u001B[39m ArchiveLogger\u001B[38;5;241m.\u001B[39mload_archives(archive_files)\n",
      "File \u001B[0;32m~/Downloads/anaconda3/lib/python3.12/site-packages/ema_workbench/em_framework/optimization.py:723\u001B[0m, in \u001B[0;36mArchiveLogger.load_archives\u001B[0;34m(cls, filename)\u001B[0m\n\u001B[1;32m    710\u001B[0m \u001B[38;5;250m\u001B[39m\u001B[38;5;124;03m\"\"\"load the archives stored with the ArchiveLogger\u001B[39;00m\n\u001B[1;32m    711\u001B[0m \n\u001B[1;32m    712\u001B[0m \u001B[38;5;124;03mParameters\u001B[39;00m\n\u001B[0;32m   (...)\u001B[0m\n\u001B[1;32m    719\u001B[0m \u001B[38;5;124;03mdict with nfe as key and dataframe as vlaue\u001B[39;00m\n\u001B[1;32m    720\u001B[0m \u001B[38;5;124;03m\"\"\"\u001B[39;00m\n\u001B[1;32m    722\u001B[0m archives \u001B[38;5;241m=\u001B[39m {}\n\u001B[0;32m--> 723\u001B[0m \u001B[38;5;28;01mwith\u001B[39;00m tarfile\u001B[38;5;241m.\u001B[39mopen(os\u001B[38;5;241m.\u001B[39mpath\u001B[38;5;241m.\u001B[39mabspath(filename)) \u001B[38;5;28;01mas\u001B[39;00m fh:\n\u001B[1;32m    724\u001B[0m     \u001B[38;5;28;01mfor\u001B[39;00m entry \u001B[38;5;129;01min\u001B[39;00m fh\u001B[38;5;241m.\u001B[39mgetmembers():\n\u001B[1;32m    725\u001B[0m         \u001B[38;5;28;01mif\u001B[39;00m entry\u001B[38;5;241m.\u001B[39mname\u001B[38;5;241m.\u001B[39mendswith(\u001B[38;5;124m\"\u001B[39m\u001B[38;5;124mcsv\u001B[39m\u001B[38;5;124m\"\u001B[39m):\n",
      "File \u001B[0;32m<frozen posixpath>:410\u001B[0m, in \u001B[0;36mabspath\u001B[0;34m(path)\u001B[0m\n",
      "\u001B[0;31mTypeError\u001B[0m: expected str, bytes or os.PathLike object, not list"
     ]
    }
   ],
   "execution_count": 38
  },
  {
   "metadata": {},
   "cell_type": "code",
   "outputs": [],
   "execution_count": null,
   "source": "",
   "id": "c07f870dc7d68a25"
  }
 ],
 "metadata": {
  "kernelspec": {
   "display_name": "Python 3",
   "language": "python",
   "name": "python3"
  },
  "language_info": {
   "codemirror_mode": {
    "name": "ipython",
    "version": 2
   },
   "file_extension": ".py",
   "mimetype": "text/x-python",
   "name": "python",
   "nbconvert_exporter": "python",
   "pygments_lexer": "ipython2",
   "version": "2.7.6"
  }
 },
 "nbformat": 4,
 "nbformat_minor": 5
}
