{
 "cells": [
  {
   "cell_type": "code",
   "id": "initial_id",
   "metadata": {
    "collapsed": true,
    "ExecuteTime": {
     "end_time": "2025-06-14T14:22:27.720092Z",
     "start_time": "2025-06-14T14:22:06.218577Z"
    }
   },
   "source": [
    "from ema_workbench import MultiprocessingEvaluator\n",
    "from ema_workbench.em_framework.optimization import (HyperVolume, EpsilonProgress, ArchiveLogger)\n",
    "from ema_workbench.em_framework.optimization import (EpsNSGAII)\n",
    "import numpy as np\n",
    "\n",
    "if __name__ == \"__main__\":\n",
    "\n",
    "    # --- Load your model ---\n",
    "    model, planning_steps = get_model_for_problem_formulation(2)\n",
    "\n",
    "    # --- Set reference scenario (e.g., median or default values for all uncertainties) ---\n",
    "    reference_scenario = {unc.name: (unc.dist.mean() if hasattr(unc.dist, 'mean') else 0.5)\n",
    "                          for unc in model.uncertainties}\n",
    "\n",
    "    # --- Optimization setup ---\n",
    "    convergence_metrics = [HyperVolume(minimum=[0, 0], maximum=[1, 1]),\n",
    "                           EpsilonProgress()]\n",
    "\n",
    "    nfe = 1000  # Number of function evaluations (you can increase this)\n",
    "\n",
    "    with MultiprocessingEvaluator(model) as evaluator:\n",
    "        results, convergence = evaluator.optimize(\n",
    "            nfe=nfe,\n",
    "            searchover='levers',\n",
    "            epsilons=[0.05, 0.05],  # One epsilon per objective\n",
    "            convergence=convergence_metrics,\n",
    "            reference=reference_scenario,\n",
    "            algorithm=EpsNSGAII\n",
    "        )\n",
    "\n",
    "    # --- Save and inspect results ---\n",
    "    import pandas as pd\n",
    "    pd.DataFrame(results).to_csv(\"step2_mordm_results.csv\", index=False)\n",
    "\n",
    "    # Optional: visualize the trade-offs\n",
    "    from ema_workbench.analysis import parcoords\n",
    "    parcoords.ParallelCoordinatesFigure(results).show()"
   ],
   "outputs": [
    {
     "name": "stderr",
     "output_type": "stream",
     "text": [
      "[MainProcess/INFO] pool started with 8 workers\n",
      "[MainProcess/INFO] terminating pool\n"
     ]
    },
    {
     "ename": "AssertionError",
     "evalue": "",
     "output_type": "error",
     "traceback": [
      "\u001B[31m---------------------------------------------------------------------------\u001B[39m",
      "\u001B[31mAssertionError\u001B[39m                            Traceback (most recent call last)",
      "\u001B[36mCell\u001B[39m\u001B[36m \u001B[39m\u001B[32mIn[6]\u001B[39m\u001B[32m, line 22\u001B[39m\n\u001B[32m     19\u001B[39m nfe = \u001B[32m1000\u001B[39m  \u001B[38;5;66;03m# Number of function evaluations (you can increase this)\u001B[39;00m\n\u001B[32m     21\u001B[39m \u001B[38;5;28;01mwith\u001B[39;00m MultiprocessingEvaluator(model) \u001B[38;5;28;01mas\u001B[39;00m evaluator:\n\u001B[32m---> \u001B[39m\u001B[32m22\u001B[39m     results, convergence = \u001B[43mevaluator\u001B[49m\u001B[43m.\u001B[49m\u001B[43moptimize\u001B[49m\u001B[43m(\u001B[49m\n\u001B[32m     23\u001B[39m \u001B[43m        \u001B[49m\u001B[43mnfe\u001B[49m\u001B[43m=\u001B[49m\u001B[43mnfe\u001B[49m\u001B[43m,\u001B[49m\n\u001B[32m     24\u001B[39m \u001B[43m        \u001B[49m\u001B[43msearchover\u001B[49m\u001B[43m=\u001B[49m\u001B[33;43m'\u001B[39;49m\u001B[33;43mlevers\u001B[39;49m\u001B[33;43m'\u001B[39;49m\u001B[43m,\u001B[49m\n\u001B[32m     25\u001B[39m \u001B[43m        \u001B[49m\u001B[43mepsilons\u001B[49m\u001B[43m=\u001B[49m\u001B[43m[\u001B[49m\u001B[32;43m0.05\u001B[39;49m\u001B[43m,\u001B[49m\u001B[43m \u001B[49m\u001B[32;43m0.05\u001B[39;49m\u001B[43m]\u001B[49m\u001B[43m,\u001B[49m\u001B[43m  \u001B[49m\u001B[38;5;66;43;03m# One epsilon per objective\u001B[39;49;00m\n\u001B[32m     26\u001B[39m \u001B[43m        \u001B[49m\u001B[43mconvergence\u001B[49m\u001B[43m=\u001B[49m\u001B[43mconvergence_metrics\u001B[49m\u001B[43m,\u001B[49m\n\u001B[32m     27\u001B[39m \u001B[43m        \u001B[49m\u001B[43mreference\u001B[49m\u001B[43m=\u001B[49m\u001B[43mreference_scenario\u001B[49m\u001B[43m,\u001B[49m\n\u001B[32m     28\u001B[39m \u001B[43m        \u001B[49m\u001B[43malgorithm\u001B[49m\u001B[43m=\u001B[49m\u001B[43mEpsNSGAII\u001B[49m\n\u001B[32m     29\u001B[39m \u001B[43m    \u001B[49m\u001B[43m)\u001B[49m\n\u001B[32m     31\u001B[39m \u001B[38;5;66;03m# --- Save and inspect results ---\u001B[39;00m\n\u001B[32m     32\u001B[39m \u001B[38;5;28;01mimport\u001B[39;00m\u001B[38;5;250m \u001B[39m\u001B[34;01mpandas\u001B[39;00m\u001B[38;5;250m \u001B[39m\u001B[38;5;28;01mas\u001B[39;00m\u001B[38;5;250m \u001B[39m\u001B[34;01mpd\u001B[39;00m\n",
      "\u001B[36mFile \u001B[39m\u001B[32m/Library/Frameworks/Python.framework/Versions/3.11/lib/python3.11/site-packages/ema_workbench/em_framework/evaluators.py:228\u001B[39m, in \u001B[36mBaseEvaluator.optimize\u001B[39m\u001B[34m(self, algorithm, nfe, searchover, reference, constraints, convergence_freq, logging_freq, variator, **kwargs)\u001B[39m\n\u001B[32m    210\u001B[39m \u001B[38;5;28;01mdef\u001B[39;00m\u001B[38;5;250m \u001B[39m\u001B[34moptimize\u001B[39m(\n\u001B[32m    211\u001B[39m     \u001B[38;5;28mself\u001B[39m,\n\u001B[32m    212\u001B[39m     algorithm=EpsNSGAII,\n\u001B[32m   (...)\u001B[39m\u001B[32m    220\u001B[39m     **kwargs,\n\u001B[32m    221\u001B[39m ):\n\u001B[32m    222\u001B[39m \u001B[38;5;250m    \u001B[39m\u001B[33;03m\"\"\"convenience method for outcome optimization.\u001B[39;00m\n\u001B[32m    223\u001B[39m \n\u001B[32m    224\u001B[39m \u001B[33;03m    is forwarded to :func:optimize, with evaluator and models\u001B[39;00m\n\u001B[32m    225\u001B[39m \u001B[33;03m    arguments added in.\u001B[39;00m\n\u001B[32m    226\u001B[39m \n\u001B[32m    227\u001B[39m \u001B[33;03m    \"\"\"\u001B[39;00m\n\u001B[32m--> \u001B[39m\u001B[32m228\u001B[39m     \u001B[38;5;28;01mreturn\u001B[39;00m \u001B[43moptimize\u001B[49m\u001B[43m(\u001B[49m\n\u001B[32m    229\u001B[39m \u001B[43m        \u001B[49m\u001B[38;5;28;43mself\u001B[39;49m\u001B[43m.\u001B[49m\u001B[43m_msis\u001B[49m\u001B[43m,\u001B[49m\n\u001B[32m    230\u001B[39m \u001B[43m        \u001B[49m\u001B[43malgorithm\u001B[49m\u001B[43m=\u001B[49m\u001B[43malgorithm\u001B[49m\u001B[43m,\u001B[49m\n\u001B[32m    231\u001B[39m \u001B[43m        \u001B[49m\u001B[43mnfe\u001B[49m\u001B[43m=\u001B[49m\u001B[38;5;28;43mint\u001B[39;49m\u001B[43m(\u001B[49m\u001B[43mnfe\u001B[49m\u001B[43m)\u001B[49m\u001B[43m,\u001B[49m\n\u001B[32m    232\u001B[39m \u001B[43m        \u001B[49m\u001B[43msearchover\u001B[49m\u001B[43m=\u001B[49m\u001B[43msearchover\u001B[49m\u001B[43m,\u001B[49m\n\u001B[32m    233\u001B[39m \u001B[43m        \u001B[49m\u001B[43mevaluator\u001B[49m\u001B[43m=\u001B[49m\u001B[38;5;28;43mself\u001B[39;49m\u001B[43m,\u001B[49m\n\u001B[32m    234\u001B[39m \u001B[43m        \u001B[49m\u001B[43mreference\u001B[49m\u001B[43m=\u001B[49m\u001B[43mreference\u001B[49m\u001B[43m,\u001B[49m\n\u001B[32m    235\u001B[39m \u001B[43m        \u001B[49m\u001B[43mconstraints\u001B[49m\u001B[43m=\u001B[49m\u001B[43mconstraints\u001B[49m\u001B[43m,\u001B[49m\n\u001B[32m    236\u001B[39m \u001B[43m        \u001B[49m\u001B[43mconvergence_freq\u001B[49m\u001B[43m=\u001B[49m\u001B[43mconvergence_freq\u001B[49m\u001B[43m,\u001B[49m\n\u001B[32m    237\u001B[39m \u001B[43m        \u001B[49m\u001B[43mlogging_freq\u001B[49m\u001B[43m=\u001B[49m\u001B[43mlogging_freq\u001B[49m\u001B[43m,\u001B[49m\n\u001B[32m    238\u001B[39m \u001B[43m        \u001B[49m\u001B[43mvariator\u001B[49m\u001B[43m=\u001B[49m\u001B[43mvariator\u001B[49m\u001B[43m,\u001B[49m\n\u001B[32m    239\u001B[39m \u001B[43m        \u001B[49m\u001B[43m*\u001B[49m\u001B[43m*\u001B[49m\u001B[43mkwargs\u001B[49m\u001B[43m,\u001B[49m\n\u001B[32m    240\u001B[39m \u001B[43m    \u001B[49m\u001B[43m)\u001B[49m\n",
      "\u001B[36mFile \u001B[39m\u001B[32m/Library/Frameworks/Python.framework/Versions/3.11/lib/python3.11/site-packages/ema_workbench/em_framework/evaluators.py:570\u001B[39m, in \u001B[36moptimize\u001B[39m\u001B[34m(models, algorithm, nfe, searchover, evaluator, reference, convergence, constraints, convergence_freq, logging_freq, variator, **kwargs)\u001B[39m\n\u001B[32m    567\u001B[39m \u001B[38;5;28;01mexcept\u001B[39;00m \u001B[38;5;167;01mTypeError\u001B[39;00m:\n\u001B[32m    568\u001B[39m     \u001B[38;5;28;01mpass\u001B[39;00m\n\u001B[32m--> \u001B[39m\u001B[32m570\u001B[39m problem = \u001B[43mto_problem\u001B[49m\u001B[43m(\u001B[49m\u001B[43mmodels\u001B[49m\u001B[43m,\u001B[49m\u001B[43m \u001B[49m\u001B[43msearchover\u001B[49m\u001B[43m,\u001B[49m\u001B[43m \u001B[49m\u001B[43mconstraints\u001B[49m\u001B[43m=\u001B[49m\u001B[43mconstraints\u001B[49m\u001B[43m,\u001B[49m\u001B[43m \u001B[49m\u001B[43mreference\u001B[49m\u001B[43m=\u001B[49m\u001B[43mreference\u001B[49m\u001B[43m)\u001B[49m\n\u001B[32m    572\u001B[39m \u001B[38;5;66;03m# solve the optimization problem\u001B[39;00m\n\u001B[32m    573\u001B[39m \u001B[38;5;28;01mif\u001B[39;00m \u001B[38;5;129;01mnot\u001B[39;00m evaluator:\n",
      "\u001B[36mFile \u001B[39m\u001B[32m/Library/Frameworks/Python.framework/Versions/3.11/lib/python3.11/site-packages/ema_workbench/em_framework/optimization.py:189\u001B[39m, in \u001B[36mto_problem\u001B[39m\u001B[34m(model, searchover, reference, constraints)\u001B[39m\n\u001B[32m    186\u001B[39m \u001B[38;5;28;01mif\u001B[39;00m \u001B[38;5;129;01mnot\u001B[39;00m outcomes:\n\u001B[32m    187\u001B[39m     \u001B[38;5;28;01mraise\u001B[39;00m EMAError(\u001B[33m\"\u001B[39m\u001B[33mNo outcomes specified to optimize over, all outcomes are of kind=INFO\u001B[39m\u001B[33m\"\u001B[39m)\n\u001B[32m--> \u001B[39m\u001B[32m189\u001B[39m problem = \u001B[43mProblem\u001B[49m\u001B[43m(\u001B[49m\n\u001B[32m    190\u001B[39m \u001B[43m    \u001B[49m\u001B[43msearchover\u001B[49m\u001B[43m,\u001B[49m\u001B[43m \u001B[49m\u001B[43mdecision_variables\u001B[49m\u001B[43m,\u001B[49m\u001B[43m \u001B[49m\u001B[43moutcome_names\u001B[49m\u001B[43m,\u001B[49m\u001B[43m \u001B[49m\u001B[43mconstraints\u001B[49m\u001B[43m,\u001B[49m\u001B[43m \u001B[49m\u001B[43mreference\u001B[49m\u001B[43m=\u001B[49m\u001B[43mreference\u001B[49m\n\u001B[32m    191\u001B[39m \u001B[43m\u001B[49m\u001B[43m)\u001B[49m\n\u001B[32m    192\u001B[39m problem.types[:] = to_platypus_types(decision_variables)\n\u001B[32m    193\u001B[39m problem.directions[:] = [outcome.kind \u001B[38;5;28;01mfor\u001B[39;00m outcome \u001B[38;5;129;01min\u001B[39;00m outcomes]\n",
      "\u001B[36mFile \u001B[39m\u001B[32m/Library/Frameworks/Python.framework/Versions/3.11/lib/python3.11/site-packages/ema_workbench/em_framework/optimization.py:135\u001B[39m, in \u001B[36mProblem.__init__\u001B[39m\u001B[34m(self, searchover, parameters, outcome_names, constraints, reference)\u001B[39m\n\u001B[32m    132\u001B[39m \u001B[38;5;28;01massert\u001B[39;00m searchover \u001B[38;5;129;01min\u001B[39;00m (\u001B[33m\"\u001B[39m\u001B[33mlevers\u001B[39m\u001B[33m\"\u001B[39m, \u001B[33m\"\u001B[39m\u001B[33muncertainties\u001B[39m\u001B[33m\"\u001B[39m, \u001B[33m\"\u001B[39m\u001B[33mrobust\u001B[39m\u001B[33m\"\u001B[39m)\n\u001B[32m    134\u001B[39m \u001B[38;5;28;01mif\u001B[39;00m searchover == \u001B[33m\"\u001B[39m\u001B[33mlevers\u001B[39m\u001B[33m\"\u001B[39m:\n\u001B[32m--> \u001B[39m\u001B[32m135\u001B[39m     \u001B[38;5;28;01massert\u001B[39;00m \u001B[38;5;129;01mnot\u001B[39;00m reference \u001B[38;5;129;01mor\u001B[39;00m \u001B[38;5;28misinstance\u001B[39m(reference, Scenario)\n\u001B[32m    136\u001B[39m \u001B[38;5;28;01melif\u001B[39;00m searchover == \u001B[33m\"\u001B[39m\u001B[33muncertainties\u001B[39m\u001B[33m\"\u001B[39m:\n\u001B[32m    137\u001B[39m     \u001B[38;5;28;01massert\u001B[39;00m \u001B[38;5;129;01mnot\u001B[39;00m reference \u001B[38;5;129;01mor\u001B[39;00m \u001B[38;5;28misinstance\u001B[39m(reference, Policy)\n",
      "\u001B[31mAssertionError\u001B[39m: "
     ]
    }
   ],
   "execution_count": 6
  },
  {
   "metadata": {
    "ExecuteTime": {
     "end_time": "2025-06-14T14:22:01.760166Z",
     "start_time": "2025-06-14T14:21:59.479736Z"
    }
   },
   "cell_type": "code",
   "source": [
    "import matplotlib.pyplot as plt\n",
    "import seaborn as sns\n",
    "import numpy as np\n",
    "import pandas as pd\n",
    "from ema_workbench import (Model, Policy, MultiprocessingEvaluator, Samplers)\n",
    "from ema_workbench.analysis import feature_scoring\n",
    "from ema_workbench.em_framework.salib_samplers import get_SALib_problem\n",
    "from SALib.analyze import sobol\n",
    "from problem_formulation import get_model_for_problem_formulation\n",
    "from ema_workbench.analysis import feature_scoring"
   ],
   "id": "59a46b4e0672e297",
   "outputs": [],
   "execution_count": 5
  }
 ],
 "metadata": {
  "kernelspec": {
   "display_name": "Python 3",
   "language": "python",
   "name": "python3"
  },
  "language_info": {
   "codemirror_mode": {
    "name": "ipython",
    "version": 2
   },
   "file_extension": ".py",
   "mimetype": "text/x-python",
   "name": "python",
   "nbconvert_exporter": "python",
   "pygments_lexer": "ipython2",
   "version": "2.7.6"
  }
 },
 "nbformat": 4,
 "nbformat_minor": 5
}
